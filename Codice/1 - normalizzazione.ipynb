{
 "cells": [
  {
   "cell_type": "markdown",
   "id": "dd961c40",
   "metadata": {},
   "source": [
    "## Normalizzazione testi letterari per affrontare il compito di authorship attribution"
   ]
  },
  {
   "cell_type": "markdown",
   "id": "96a7f9ac",
   "metadata": {},
   "source": [
    "- è necessario unificare ciascun paragrafo sostituendo tutti i ritorni a capo interni con uno spazio\n",
    "- le righe vuote (identificate con doppi ritorni a capo) saranno usate come delimitatori\n",
    "righe vuote (identificabili, ad esempio, con doppi ritorni a capo nel testo)"
   ]
  },
  {
   "cell_type": "code",
   "execution_count": 3,
   "id": "512e994f",
   "metadata": {},
   "outputs": [],
   "source": [
    "import re\n",
    "import os"
   ]
  },
  {
   "cell_type": "markdown",
   "id": "44dd0bd6",
   "metadata": {},
   "source": [
    "#### Creazione di una lista con i nomi dei file da normalizzare"
   ]
  },
  {
   "cell_type": "code",
   "execution_count": 5,
   "id": "f7e3e8cc",
   "metadata": {},
   "outputs": [
    {
     "name": "stdout",
     "output_type": "stream",
     "text": [
      "['Testi progetto/Serao Matilde - 1856-1927/serao_le_amanti.txt', 'Testi progetto/Serao Matilde - 1856-1927/serao_l_infedele.txt', 'Testi progetto/Serao Matilde - 1856-1927/serao_la_conquista_di_roma.txt', 'Testi progetto/Serao Matilde - 1856-1927/serao_gli_amanti.txt', 'Testi progetto/Serao Matilde - 1856-1927/serao_piccole_anime.txt', 'Testi progetto/Neera Zuccari Anna Maria - 1846 - 1918/neera_il_sogno.txt', 'Testi progetto/Neera Zuccari Anna Maria - 1846 - 1918/neera_la_vecchia_casa.txt', 'Testi progetto/Neera Zuccari Anna Maria - 1846 - 1918/neera_rogo_d_amore.txt', 'Testi progetto/Neera Zuccari Anna Maria - 1846 - 1918/neera_l_amuleto.txt', 'Testi progetto/Neera Zuccari Anna Maria - 1846 - 1918/neera_le_idee_di_una_donna.txt', 'Testi progetto/Aleramo Sibilla - 1876-1960/aleramo_il_passaggio.txt', 'Testi progetto/Aleramo Sibilla - 1876-1960/aleramo_una_donna.txt', 'Testi progetto/Aleramo Sibilla - 1876-1960/aleramo_trasfigurazione.txt']\n"
     ]
    }
   ],
   "source": [
    "# mi muovo nella cartella dove sono contenuti i miei file e ciclo sulle sotto cartelle e sui file per ottenerli tutti\n",
    "\n",
    "lista_file = []\n",
    "for cartella, sottocartelle, files in os.walk(\"Testi progetto\"):\n",
    "    for file in files:\n",
    "        if file.endswith(\".txt\"):\n",
    "            file_path = cartella+\"/\"+file\n",
    "            lista_file.append(file_path)\n",
    "print(lista_file)"
   ]
  },
  {
   "cell_type": "markdown",
   "id": "a233f882",
   "metadata": {},
   "source": [
    "#### Funzione di unificazione dei paragrafi\n",
    "\n",
    "Prende in input il percorso del file originale e quello del file destinazione; dal primo estrae la stringa di testo, applica la regex \"(?<!\\n)\\n(?!\\n)\" che permette di eliminare tutti gli \"\\n\" all'interno del file che non sono seguiti da un altro \"\\n\" (così da mantenere i doppi ritorno a capo come delimitatore) e poi scrive la stringa modificata nel secondo."
   ]
  },
  {
   "cell_type": "code",
   "execution_count": 4,
   "id": "d2d0cc04",
   "metadata": {},
   "outputs": [],
   "source": [
    "def funzione_normalizzazione(file_originale, file_normalizzato):\n",
    "\n",
    "    # regex che permette di catturare tutti i casi in cui uno \\n non è preceduto o seguito da un altro \\n (e che verrà sostituito da spazio)\n",
    "    pattern1 = \"(?<!\\n)\\n(?!\\n)\"\n",
    "    repl1 = \" \"\n",
    "\n",
    "    f = open(file_originale)\n",
    "    stringa = f.read()\n",
    "\n",
    "    # Metodo per modificare la stringa sostituendo il pattern con il repl\n",
    "    stringa_mod = re.sub(pattern1, repl1, stringa)\n",
    "\n",
    "    # regex che permette di catturare tutti i casi in cui ho 3 \\n consecutivi (es: inizio del capitolo), da riportare alla stessa forma degli altri casi\n",
    "    pattern2 = \"\\n{3,}\"\n",
    "    repl2 = \"\\n\\n\"\n",
    "\n",
    "    stringa_mod = re.sub(pattern2, repl2, stringa_mod)\n",
    "\n",
    "    # Scrivo la stringa modificata su un nuovo file\n",
    "    f_norm = open(file_normalizzato, \"w\")\n",
    "    f_norm.write(stringa_mod)\n",
    "\n",
    "    f_norm.close()\n",
    "    f.close()"
   ]
  },
  {
   "cell_type": "markdown",
   "id": "ccc87d30",
   "metadata": {},
   "source": [
    "#### Lancio la funzione sui file"
   ]
  },
  {
   "cell_type": "code",
   "execution_count": 6,
   "id": "a1901480",
   "metadata": {},
   "outputs": [],
   "source": [
    "# scorro la lista di file e per ognuno lancio la funzione di normalizzazione (usando come nome del nuovo file quello originale + l'aggiunta norm)\n",
    "\n",
    "for file in lista_file:\n",
    "    file_originale = file\n",
    "    file_normalizzato = file.split('.')[0]+\"_norm.txt\"\n",
    "    \n",
    "    funzione_normalizzazione(file_originale, file_normalizzato)"
   ]
  }
 ],
 "metadata": {
  "kernelspec": {
   "display_name": "base",
   "language": "python",
   "name": "python3"
  },
  "language_info": {
   "codemirror_mode": {
    "name": "ipython",
    "version": 3
   },
   "file_extension": ".py",
   "mimetype": "text/x-python",
   "name": "python",
   "nbconvert_exporter": "python",
   "pygments_lexer": "ipython3",
   "version": "3.12.2"
  }
 },
 "nbformat": 4,
 "nbformat_minor": 5
}
