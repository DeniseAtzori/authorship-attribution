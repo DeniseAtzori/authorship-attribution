{
 "cells": [
  {
   "cell_type": "markdown",
   "id": "323a6d74",
   "metadata": {},
   "source": [
    "# Classificatore basato su SVM lineari e word embedding\n",
    "\n",
    "Il terzo classificatore dovrà utilizzare una rappresentazione vettoriale del testo costruita a partire da word embedding. I modelli di embedding da utilizzare potranno essere, ad esempio, quelli forniti dal sito ItaliaNLP Lab (per l’italiano:  http://www.italianlp.it/resources/italian-word-embeddings/, per l’inglese: http://www.italianlp.it/t2k-resources/en/w2v/ukwac/ukwac128.sqlite).\n",
    "\n",
    "In questo caso si richiede di:\n",
    "\n",
    "- testare diverse rappresentazioni del testo che variano rispetto al modo di combinare gli embedding delle singole parole e/o rispetto alle categorie grammaticali delle parole prese in considerazione\n",
    "- valutare i vari modelli sul validation set\n",
    "- testare sul test set il sistema che ha ottenuto le migliori prestazioni nella fase di validazione."
   ]
  },
  {
   "cell_type": "markdown",
   "id": "f30d478f",
   "metadata": {},
   "source": [
    "N.B: analisi svolte sul dataset senza splitting dei clitici e delle preposizioni"
   ]
  },
  {
   "cell_type": "code",
   "execution_count": 619,
   "id": "3ae8981a",
   "metadata": {},
   "outputs": [],
   "source": [
    "import numpy as np\n",
    "import os"
   ]
  },
  {
   "cell_type": "markdown",
   "id": "d6bb2f30",
   "metadata": {},
   "source": [
    "Definizione della classi Document e Token\n",
    "(il documento è rappresentato come lista di token e non di frasi)"
   ]
  },
  {
   "cell_type": "code",
   "execution_count": 620,
   "id": "9636e6fc",
   "metadata": {},
   "outputs": [],
   "source": [
    "class Document:\n",
    "    \n",
    "    def __init__(self, document_path):\n",
    "        self.document_path = document_path\n",
    "        self.doc_id = None\n",
    "        self.split = None\n",
    "        self._load_doc_info(document_path)\n",
    "        self.tokens = []\n",
    "        self.features = None\n",
    "        self.count = None # percentuale di parole trovate nei word embeddings\n",
    "        \n",
    "    def _load_doc_info(self, document_path):\n",
    "        self.doc_id = (document_path.split('.')[0]).split(\"/\")[-1]\n",
    "        self.split = self.doc_id.split('_')[-1]\n",
    "        self.autrice = self.doc_id.split('_')[0]\n",
    "\n",
    "    def get_num_tokens(self):\n",
    "        return len(self.tokens)\n",
    "             \n",
    "    def __str__(self):\n",
    "        return ' '.join([token.word for token in self.tokens])\n",
    "    \n",
    "    \n",
    "class Token:\n",
    "    \n",
    "    def __init__(self, word, pos):\n",
    "        self.word = word\n",
    "        self.pos = pos\n",
    "\n",
    "    def __str__(self):\n",
    "        return f'Word = {self.word}, POS = {self.pos}'"
   ]
  },
  {
   "cell_type": "markdown",
   "id": "4232d26d",
   "metadata": {},
   "source": [
    "## Caricamento dei word embeddings"
   ]
  },
  {
   "cell_type": "code",
   "execution_count": 621,
   "id": "54d54e24",
   "metadata": {},
   "outputs": [],
   "source": [
    "embeddings_dim = 128\n",
    "embeddings_path = f'itwac{embeddings_dim}.txt'"
   ]
  },
  {
   "cell_type": "markdown",
   "id": "372bf40d",
   "metadata": {},
   "source": [
    "Leggiamo il file dei word embeddings e creiamo un dizionario della forma:\n",
    "\n",
    "- Chiave = parola\n",
    "- Valore = embedding della parola"
   ]
  },
  {
   "cell_type": "code",
   "execution_count": 622,
   "id": "2652100d",
   "metadata": {},
   "outputs": [],
   "source": [
    "def load_word_embeddings(src_path):\n",
    "    embeddings = dict()\n",
    "    for line in open(src_path, 'r'):\n",
    "        line = line.strip().split('\\t')\n",
    "        word = line[0]\n",
    "        embedding = line[1:]\n",
    "        embedding = [float(comp) for comp in embedding] # convertiamo le componenti dell'embedding in float\n",
    "        embeddings[word] = np.asarray(embedding) # trasformiamo la lista delle componenti in un vettore di numpy\n",
    "    return embeddings"
   ]
  },
  {
   "cell_type": "code",
   "execution_count": 623,
   "id": "127a8cfa",
   "metadata": {},
   "outputs": [],
   "source": [
    "embeddings = load_word_embeddings(embeddings_path)"
   ]
  },
  {
   "cell_type": "code",
   "execution_count": 624,
   "id": "223628d5",
   "metadata": {},
   "outputs": [
    {
     "data": {
      "text/plain": [
       "1247492"
      ]
     },
     "execution_count": 624,
     "metadata": {},
     "output_type": "execute_result"
    }
   ],
   "source": [
    "len(embeddings)"
   ]
  },
  {
   "cell_type": "code",
   "execution_count": 625,
   "id": "e928f9a8",
   "metadata": {},
   "outputs": [
    {
     "data": {
      "text/plain": [
       "array([ 0.09829128, -0.00466396,  0.12274315, -0.00645867,  0.02171866,\n",
       "       -0.01775092,  0.20173289, -0.0126764 , -0.13903011,  0.14330961,\n",
       "        0.15038787, -0.00662153,  0.03522438,  0.05580687, -0.06235559,\n",
       "        0.16190079,  0.13125402,  0.09466209, -0.02967671,  0.06027041,\n",
       "        0.00226344, -0.04958551,  0.14477645, -0.12636545, -0.07517902,\n",
       "       -0.0059378 , -0.15247029, -0.07902947,  0.05534033, -0.06163132,\n",
       "       -0.04358011, -0.11407799, -0.05476963,  0.00276546,  0.04666484,\n",
       "       -0.02525456,  0.12073468,  0.14676426, -0.00958022,  0.05849574,\n",
       "       -0.13112271, -0.04931208,  0.05483235, -0.00634756, -0.21491098,\n",
       "        0.05190172,  0.1771792 ,  0.02620396,  0.06802528, -0.08378372,\n",
       "        0.0625739 ,  0.04612483, -0.12579846, -0.05673553, -0.02175681,\n",
       "       -0.19563943,  0.08836281,  0.09511665,  0.1184418 , -0.09940016,\n",
       "        0.05089193, -0.0161554 ,  0.04401183, -0.03545505,  0.04018058,\n",
       "        0.13875584,  0.10942651,  0.03830871,  0.08303873,  0.0132618 ,\n",
       "       -0.04568123, -0.00400613, -0.1356106 ,  0.05514534, -0.07236817,\n",
       "       -0.0685998 ,  0.03771403, -0.16922323,  0.00518852, -0.02480138,\n",
       "       -0.066734  , -0.15318146,  0.02272361, -0.06768468,  0.07380426,\n",
       "       -0.13995747, -0.09205799,  0.05859702, -0.09730155, -0.02521276,\n",
       "        0.11631256,  0.05730847,  0.00228108,  0.01509271, -0.00061365,\n",
       "        0.16568103, -0.03857726,  0.08954733, -0.04815894, -0.01086136,\n",
       "        0.00753549,  0.01092281, -0.09415296, -0.02933624,  0.16784027,\n",
       "        0.10891367, -0.02955305, -0.04508689, -0.0002467 , -0.06413051,\n",
       "        0.05644571, -0.07409131,  0.00310994, -0.02220298,  0.10326934,\n",
       "        0.02357078,  0.21926755,  0.06989494,  0.11199928, -0.10216472,\n",
       "       -0.04426594, -0.06311237,  0.01181522, -0.04046022, -0.15095848,\n",
       "       -0.06841758,  0.06296661,  0.06039588])"
      ]
     },
     "execution_count": 625,
     "metadata": {},
     "output_type": "execute_result"
    }
   ],
   "source": [
    "embeddings['vedersi'] #, embeddings['veder-']"
   ]
  },
  {
   "cell_type": "markdown",
   "id": "ec4039c1",
   "metadata": {},
   "source": [
    "## Caricamento del dataset"
   ]
  },
  {
   "cell_type": "markdown",
   "id": "695fde80",
   "metadata": {},
   "source": [
    "#### Normalizzazione delle parole\n",
    "\n",
    "- Numbers:\n",
    "    - Integer numbers between 0 and 2100 were kept as original\n",
    "    - Each integer number greater than 2100 is mapped in a string which represents the number of digits needed to store the number (ex: 10000 -> DIGLEN_5)\n",
    "    - Each digit in a string that is not convertible to a number must be converted with the following char: @Dg. This is an example of replacement (ex: 10,234 -> @Dg@Dg,@Dg@Dg@Dg)\n",
    "- Words:\n",
    "    - A string starting with lower case character must be lowercased (e.g.: (“aNtoNio” -> “antonio”), (“cane” -> “cane”))\n",
    "    - A string starting with an upcased character must be capitalized (e.g.: (“CANE” -> “Cane”, “Antonio”-> “Antonio”))"
   ]
  },
  {
   "cell_type": "code",
   "execution_count": 626,
   "id": "604fa436",
   "metadata": {},
   "outputs": [],
   "source": [
    "import re\n",
    "\n",
    "def get_digits(text):\n",
    "    try:\n",
    "      val = int(text)\n",
    "    except:\n",
    "      text = re.sub(r'\\d', '@Dg', text)\n",
    "      return text\n",
    "    if val >= 0 and val < 2100:\n",
    "      return str(val)\n",
    "    else:\n",
    "      return \"DIGLEN_\" + str(len(str(val)))\n",
    "\n",
    "def normalize_text(word):\n",
    "    if \"http\" in word or (\".\" in word and \"/\" in word):\n",
    "      word = str(\"___URL___\")\n",
    "      return word\n",
    "    if len(word) > 26:\n",
    "      return \"__LONG-LONG__\"\n",
    "    new_word = get_digits(word)\n",
    "    if new_word != word:\n",
    "      word = new_word\n",
    "    if word[0].isupper():\n",
    "      word = word.capitalize()\n",
    "    else:\n",
    "      word = word.lower()\n",
    "    return word"
   ]
  },
  {
   "cell_type": "markdown",
   "id": "d8ae9a1d",
   "metadata": {},
   "source": [
    "#### Estrazione dei token"
   ]
  },
  {
   "cell_type": "code",
   "execution_count": 627,
   "id": "ebf7a075",
   "metadata": {},
   "outputs": [],
   "source": [
    "# Funzione che estrae i token dai file, considerando i clitici non splittati\n",
    "\n",
    "def get_tokens_from_file(src_path):\n",
    "    document_tokens = []\n",
    "    lines_to_skip = 0\n",
    "    take_pos = False\n",
    "    for line in open(src_path, 'r'):\n",
    "        # print(f'\\nRiga: {line.strip()}')\n",
    "        if line[0].isdigit():\n",
    "            splitted_line = line.strip().split('\\t')\n",
    "            if '-' in splitted_line[0]:\n",
    "                # print('Ho trovato un - ')\n",
    "                skip_ids = splitted_line[0].split('-')\n",
    "                # print('Indici da saltare', skip_ids)\n",
    "                lines_to_skip = int(skip_ids[1]) - int(skip_ids[0]) + 1 # l'indice ci indica quali righe saltare\n",
    "                take_pos = True # booleano che indica che dobbiamo prendere la pos della prossima parola\n",
    "                word = normalize_text(splitted_line[1])\n",
    "                pos = splitted_line[3]\n",
    "                token = Token(word=word, pos=None) # inizializziamo il token con la forma, il pos lo prendiamo nella riga successiva\n",
    "                # print(f'Preso token {word}')\n",
    "                document_tokens.append(token)\n",
    "            else:\n",
    "                if lines_to_skip == 0:   \n",
    "                    word = normalize_text(splitted_line[1])\n",
    "                    pos = splitted_line[3]\n",
    "                    token = Token(word=word, pos=pos)\n",
    "                    # print(f'Preso token {word}')\n",
    "                    document_tokens.append(token)\n",
    "                if take_pos:\n",
    "                    pos = splitted_line[3]\n",
    "                    document_tokens[-1].pos = pos\n",
    "                    take_pos = False\n",
    "                lines_to_skip = max(0, lines_to_skip-1)\n",
    "    return document_tokens"
   ]
  },
  {
   "cell_type": "code",
   "execution_count": 628,
   "id": "a4d1325c",
   "metadata": {},
   "outputs": [],
   "source": [
    "dataset_conllu = \"Dataset conllu/\""
   ]
  },
  {
   "cell_type": "code",
   "execution_count": 629,
   "id": "067e51f8",
   "metadata": {},
   "outputs": [],
   "source": [
    "# Carico tutti i documenti sulla stessa lista, così da ottenere features comuni nelle fasi successive\n",
    "lista_documenti = []\n",
    "\n",
    "for cartella, sottocartelle, files in os.walk(dataset_conllu):\n",
    "    for file in files:\n",
    "        if file.endswith(\".conllu\"):\n",
    "            file_path = cartella+\"/\"+file\n",
    "            document = Document(file_path)\n",
    "            document_tokens = get_tokens_from_file(file_path)\n",
    "            document.tokens = document_tokens\n",
    "            lista_documenti.append(document)\n"
   ]
  },
  {
   "cell_type": "code",
   "execution_count": 630,
   "id": "8fa79aa8",
   "metadata": {},
   "outputs": [
    {
     "name": "stdout",
     "output_type": "stream",
     "text": [
      "Non durai fatica a stare a letto tutto il giorno perchè ero desiderosa di solitudine , di silenzio , di una libertà piena e completa che mi permettesse di ritrovarmi colla mia coscienza . Volevo indagare la folla di pensieri contradditori che mi agitavano commisti a irritazione , a sdegno , a tristezza e a non so quale recondita oscura soddisfazione che non sapevo decifrare .\n"
     ]
    }
   ],
   "source": [
    "print(lista_documenti[0])"
   ]
  },
  {
   "cell_type": "markdown",
   "id": "5cac4add",
   "metadata": {},
   "source": [
    "## Estrazione delle features"
   ]
  },
  {
   "cell_type": "markdown",
   "id": "c9c50d59",
   "metadata": {},
   "source": [
    "### Primo tentativo: media semplice"
   ]
  },
  {
   "cell_type": "code",
   "execution_count": 631,
   "id": "1e9eb6ae",
   "metadata": {},
   "outputs": [],
   "source": [
    "# Creo una copia della lista dei documenti per utlizzarla nel primo tentativo\n",
    "\n",
    "lista_doc_mean = lista_documenti.copy()"
   ]
  },
  {
   "cell_type": "code",
   "execution_count": 632,
   "id": "4e4f10b6",
   "metadata": {},
   "outputs": [],
   "source": [
    "def compute_embeddings_mean(document_embeddings):\n",
    "    sum_array = np.sum(document_embeddings, axis=0)\n",
    "    mean_array = np.divide(sum_array, len(document_embeddings))\n",
    "    return mean_array"
   ]
  },
  {
   "cell_type": "markdown",
   "id": "c132e29e",
   "metadata": {},
   "source": [
    "Metodo che calcola la media di tutti i word embeddings di un documento"
   ]
  },
  {
   "cell_type": "code",
   "execution_count": 633,
   "id": "8ef911f7",
   "metadata": {},
   "outputs": [],
   "source": [
    "def compute_all_embeddings_mean(document_tokens):\n",
    "    document_embeddings = []\n",
    "    count = 0\n",
    "    for token in document_tokens:\n",
    "        word = token.word\n",
    "        if word in embeddings:\n",
    "            document_embeddings.append(embeddings[word])\n",
    "            count +=1\n",
    "    \n",
    "   # se nel file non trova word embeddings, crea una rappresentazione con tutti zeri (32 componenti)\n",
    "    if len(document_embeddings) == 0:\n",
    "        mean_document_embeddings = np.zeros(embeddings_dim)\n",
    "    else:\n",
    "        mean_document_embeddings = compute_embeddings_mean(document_embeddings)\n",
    "    return mean_document_embeddings, count"
   ]
  },
  {
   "cell_type": "markdown",
   "id": "478482e9",
   "metadata": {},
   "source": [
    "#### Creazione della matrice delle features del training set"
   ]
  },
  {
   "cell_type": "markdown",
   "id": "52210d04",
   "metadata": {},
   "source": [
    "Ogni documento è rappresentato dall'aggregazione dei word embeddings delle parole (con la media)"
   ]
  },
  {
   "cell_type": "code",
   "execution_count": 634,
   "id": "a89e0a2c",
   "metadata": {},
   "outputs": [],
   "source": [
    "def extract_features(documents):\n",
    "    for document in documents:\n",
    "        # document_embeddings = compute_all_embeddings_mean(document.tokens)\n",
    "        document_embeddings, count = compute_all_embeddings_mean(document.tokens)\n",
    "        # document_embeddings = compute_filtered_embeddings_sep_means(document.tokens)\n",
    "        document.features = document_embeddings\n",
    "        # percentuale di parole trovate\n",
    "        document.count = count/len(document.tokens)"
   ]
  },
  {
   "cell_type": "code",
   "execution_count": 635,
   "id": "965cc63b",
   "metadata": {},
   "outputs": [],
   "source": [
    "extract_features(lista_doc_mean)"
   ]
  },
  {
   "cell_type": "code",
   "execution_count": 636,
   "id": "259bbdd0",
   "metadata": {},
   "outputs": [
    {
     "data": {
      "text/plain": [
       "array([ 0.08231819,  0.00127631,  0.05971173, -0.04420872,  0.03996317,\n",
       "        0.03164021,  0.05341535, -0.0083813 ,  0.07028662,  0.0526683 ,\n",
       "        0.04971379,  0.03694663, -0.01269909,  0.01631997, -0.03175304,\n",
       "        0.05769257,  0.03170019,  0.03571441, -0.05070151,  0.00861872,\n",
       "       -0.00040228,  0.00316244,  0.02591021, -0.06097868, -0.00099822,\n",
       "       -0.03361938, -0.06833996,  0.01026618,  0.03675307, -0.02828611,\n",
       "       -0.0131058 , -0.01021078,  0.00587564,  0.03970542, -0.02026116,\n",
       "       -0.02621305,  0.07865064,  0.06744671, -0.0002251 , -0.03244915,\n",
       "        0.00931579,  0.01052976,  0.01524349, -0.08058261, -0.05373249,\n",
       "       -0.01091376,  0.04393956,  0.03352186, -0.02085249, -0.02940334,\n",
       "        0.04088787,  0.04787734, -0.02458808,  0.03011065, -0.03131214,\n",
       "       -0.03541094,  0.04167812,  0.07171152,  0.04357962, -0.02381211,\n",
       "        0.06358521,  0.01244969, -0.03666805,  0.06081332,  0.03639738,\n",
       "        0.01854805,  0.02672896,  0.05142977, -0.03688202, -0.02000634,\n",
       "       -0.10359256,  0.02890847,  0.01714245, -0.05689676,  0.04903567,\n",
       "       -0.03302253,  0.01136159,  0.01030059,  0.1000434 , -0.05212026,\n",
       "        0.00236813,  0.00447945, -0.03104747, -0.05863998,  0.01404996,\n",
       "       -0.02397487, -0.02281846,  0.00636405, -0.03280431,  0.00664826,\n",
       "        0.01577151, -0.00705479,  0.01991227, -0.01073866,  0.01342827,\n",
       "        0.01721618,  0.01115017, -0.00119077,  0.02860569, -0.0231957 ,\n",
       "        0.00365028,  0.00716744,  0.03398024, -0.08852007,  0.00580174,\n",
       "        0.01169608, -0.01199883, -0.04667058,  0.0124758 , -0.01144821,\n",
       "        0.01974518,  0.00968187,  0.01723082, -0.01279204,  0.01789673,\n",
       "        0.06144202,  0.0342186 , -0.00583618, -0.02598501, -0.02694186,\n",
       "       -0.05859492, -0.00852864,  0.01711022, -0.0361616 , -0.00423911,\n",
       "        0.06484247,  0.08244176,  0.06481064])"
      ]
     },
     "execution_count": 636,
     "metadata": {},
     "output_type": "execute_result"
    }
   ],
   "source": [
    "lista_doc_mean[0].features"
   ]
  },
  {
   "cell_type": "code",
   "execution_count": 637,
   "id": "1c8f0663",
   "metadata": {},
   "outputs": [
    {
     "data": {
      "text/plain": [
       "0.9848484848484849"
      ]
     },
     "execution_count": 637,
     "metadata": {},
     "output_type": "execute_result"
    }
   ],
   "source": [
    "lista_doc_mean[0].count"
   ]
  },
  {
   "cell_type": "markdown",
   "id": "eb21642f",
   "metadata": {},
   "source": [
    "#### Divisione tra training, test e validation"
   ]
  },
  {
   "cell_type": "code",
   "execution_count": 638,
   "id": "33c8f938",
   "metadata": {},
   "outputs": [],
   "source": [
    "def train_test_val_split(all_documents):\n",
    "    train_features_dict, train_labels = [], []\n",
    "    test_features_dict, test_labels = [], []\n",
    "    val_features_dict, val_labels = [], []\n",
    "\n",
    "    for document in all_documents:\n",
    "        if document.split == 'training':\n",
    "            train_features_dict.append(document.features)\n",
    "            train_labels.append(document.autrice)\n",
    "        elif document.split == 'validation':\n",
    "            val_features_dict.append(document.features)\n",
    "            val_labels.append(document.autrice)\n",
    "        else:\n",
    "            test_features_dict.append(document.features)\n",
    "            test_labels.append(document.autrice)\n",
    "    \n",
    "    return train_features_dict, train_labels, test_features_dict, test_labels, val_features_dict, val_labels"
   ]
  },
  {
   "cell_type": "code",
   "execution_count": 639,
   "id": "6d38682d",
   "metadata": {},
   "outputs": [],
   "source": [
    "train_features_mean, train_labels_mean, test_features_mean, test_labels_mean, val_features_mean, val_labels_mean = train_test_val_split(lista_doc_mean)"
   ]
  },
  {
   "cell_type": "code",
   "execution_count": 640,
   "id": "f3df300d",
   "metadata": {},
   "outputs": [
    {
     "data": {
      "text/plain": [
       "(3000, 3000, 300, 300, 300, 300)"
      ]
     },
     "execution_count": 640,
     "metadata": {},
     "output_type": "execute_result"
    }
   ],
   "source": [
    "len(train_features_mean), len(train_labels_mean), len(test_features_mean), len(test_labels_mean), len(val_features_mean), len(val_labels_mean)"
   ]
  },
  {
   "cell_type": "code",
   "execution_count": 641,
   "id": "3002c441",
   "metadata": {},
   "outputs": [],
   "source": [
    "X_train_mean = np.array(train_features_mean)\n",
    "y_train_mean = np.array(train_labels_mean)\n",
    "X_test_mean = np.array(test_features_mean)\n",
    "y_test_mean = np.array(test_labels_mean)\n",
    "X_val_mean = np.array(val_features_mean)\n",
    "y_val_mean = np.array(val_labels_mean)"
   ]
  },
  {
   "cell_type": "code",
   "execution_count": 642,
   "id": "16bbf7fb",
   "metadata": {},
   "outputs": [
    {
     "data": {
      "text/plain": [
       "(3000, 128)"
      ]
     },
     "execution_count": 642,
     "metadata": {},
     "output_type": "execute_result"
    }
   ],
   "source": [
    "X_train_mean.shape"
   ]
  },
  {
   "cell_type": "markdown",
   "id": "f08636ed",
   "metadata": {},
   "source": [
    "#### Normalizzazione"
   ]
  },
  {
   "cell_type": "code",
   "execution_count": 643,
   "id": "43a60131",
   "metadata": {},
   "outputs": [],
   "source": [
    "from sklearn.preprocessing import MinMaxScaler\n",
    "\n",
    "scaler = MinMaxScaler()\n",
    "scaled_X_train_mean = scaler.fit_transform(X_train_mean)"
   ]
  },
  {
   "cell_type": "markdown",
   "id": "c9b0e929",
   "metadata": {},
   "source": [
    "#### Classificazione"
   ]
  },
  {
   "cell_type": "code",
   "execution_count": 644,
   "id": "ea852a14",
   "metadata": {},
   "outputs": [
    {
     "data": {
      "text/html": [
       "<style>#sk-container-id-33 {\n",
       "  /* Definition of color scheme common for light and dark mode */\n",
       "  --sklearn-color-text: black;\n",
       "  --sklearn-color-line: gray;\n",
       "  /* Definition of color scheme for unfitted estimators */\n",
       "  --sklearn-color-unfitted-level-0: #fff5e6;\n",
       "  --sklearn-color-unfitted-level-1: #f6e4d2;\n",
       "  --sklearn-color-unfitted-level-2: #ffe0b3;\n",
       "  --sklearn-color-unfitted-level-3: chocolate;\n",
       "  /* Definition of color scheme for fitted estimators */\n",
       "  --sklearn-color-fitted-level-0: #f0f8ff;\n",
       "  --sklearn-color-fitted-level-1: #d4ebff;\n",
       "  --sklearn-color-fitted-level-2: #b3dbfd;\n",
       "  --sklearn-color-fitted-level-3: cornflowerblue;\n",
       "\n",
       "  /* Specific color for light theme */\n",
       "  --sklearn-color-text-on-default-background: var(--sg-text-color, var(--theme-code-foreground, var(--jp-content-font-color1, black)));\n",
       "  --sklearn-color-background: var(--sg-background-color, var(--theme-background, var(--jp-layout-color0, white)));\n",
       "  --sklearn-color-border-box: var(--sg-text-color, var(--theme-code-foreground, var(--jp-content-font-color1, black)));\n",
       "  --sklearn-color-icon: #696969;\n",
       "\n",
       "  @media (prefers-color-scheme: dark) {\n",
       "    /* Redefinition of color scheme for dark theme */\n",
       "    --sklearn-color-text-on-default-background: var(--sg-text-color, var(--theme-code-foreground, var(--jp-content-font-color1, white)));\n",
       "    --sklearn-color-background: var(--sg-background-color, var(--theme-background, var(--jp-layout-color0, #111)));\n",
       "    --sklearn-color-border-box: var(--sg-text-color, var(--theme-code-foreground, var(--jp-content-font-color1, white)));\n",
       "    --sklearn-color-icon: #878787;\n",
       "  }\n",
       "}\n",
       "\n",
       "#sk-container-id-33 {\n",
       "  color: var(--sklearn-color-text);\n",
       "}\n",
       "\n",
       "#sk-container-id-33 pre {\n",
       "  padding: 0;\n",
       "}\n",
       "\n",
       "#sk-container-id-33 input.sk-hidden--visually {\n",
       "  border: 0;\n",
       "  clip: rect(1px 1px 1px 1px);\n",
       "  clip: rect(1px, 1px, 1px, 1px);\n",
       "  height: 1px;\n",
       "  margin: -1px;\n",
       "  overflow: hidden;\n",
       "  padding: 0;\n",
       "  position: absolute;\n",
       "  width: 1px;\n",
       "}\n",
       "\n",
       "#sk-container-id-33 div.sk-dashed-wrapped {\n",
       "  border: 1px dashed var(--sklearn-color-line);\n",
       "  margin: 0 0.4em 0.5em 0.4em;\n",
       "  box-sizing: border-box;\n",
       "  padding-bottom: 0.4em;\n",
       "  background-color: var(--sklearn-color-background);\n",
       "}\n",
       "\n",
       "#sk-container-id-33 div.sk-container {\n",
       "  /* jupyter's `normalize.less` sets `[hidden] { display: none; }`\n",
       "     but bootstrap.min.css set `[hidden] { display: none !important; }`\n",
       "     so we also need the `!important` here to be able to override the\n",
       "     default hidden behavior on the sphinx rendered scikit-learn.org.\n",
       "     See: https://github.com/scikit-learn/scikit-learn/issues/21755 */\n",
       "  display: inline-block !important;\n",
       "  position: relative;\n",
       "}\n",
       "\n",
       "#sk-container-id-33 div.sk-text-repr-fallback {\n",
       "  display: none;\n",
       "}\n",
       "\n",
       "div.sk-parallel-item,\n",
       "div.sk-serial,\n",
       "div.sk-item {\n",
       "  /* draw centered vertical line to link estimators */\n",
       "  background-image: linear-gradient(var(--sklearn-color-text-on-default-background), var(--sklearn-color-text-on-default-background));\n",
       "  background-size: 2px 100%;\n",
       "  background-repeat: no-repeat;\n",
       "  background-position: center center;\n",
       "}\n",
       "\n",
       "/* Parallel-specific style estimator block */\n",
       "\n",
       "#sk-container-id-33 div.sk-parallel-item::after {\n",
       "  content: \"\";\n",
       "  width: 100%;\n",
       "  border-bottom: 2px solid var(--sklearn-color-text-on-default-background);\n",
       "  flex-grow: 1;\n",
       "}\n",
       "\n",
       "#sk-container-id-33 div.sk-parallel {\n",
       "  display: flex;\n",
       "  align-items: stretch;\n",
       "  justify-content: center;\n",
       "  background-color: var(--sklearn-color-background);\n",
       "  position: relative;\n",
       "}\n",
       "\n",
       "#sk-container-id-33 div.sk-parallel-item {\n",
       "  display: flex;\n",
       "  flex-direction: column;\n",
       "}\n",
       "\n",
       "#sk-container-id-33 div.sk-parallel-item:first-child::after {\n",
       "  align-self: flex-end;\n",
       "  width: 50%;\n",
       "}\n",
       "\n",
       "#sk-container-id-33 div.sk-parallel-item:last-child::after {\n",
       "  align-self: flex-start;\n",
       "  width: 50%;\n",
       "}\n",
       "\n",
       "#sk-container-id-33 div.sk-parallel-item:only-child::after {\n",
       "  width: 0;\n",
       "}\n",
       "\n",
       "/* Serial-specific style estimator block */\n",
       "\n",
       "#sk-container-id-33 div.sk-serial {\n",
       "  display: flex;\n",
       "  flex-direction: column;\n",
       "  align-items: center;\n",
       "  background-color: var(--sklearn-color-background);\n",
       "  padding-right: 1em;\n",
       "  padding-left: 1em;\n",
       "}\n",
       "\n",
       "\n",
       "/* Toggleable style: style used for estimator/Pipeline/ColumnTransformer box that is\n",
       "clickable and can be expanded/collapsed.\n",
       "- Pipeline and ColumnTransformer use this feature and define the default style\n",
       "- Estimators will overwrite some part of the style using the `sk-estimator` class\n",
       "*/\n",
       "\n",
       "/* Pipeline and ColumnTransformer style (default) */\n",
       "\n",
       "#sk-container-id-33 div.sk-toggleable {\n",
       "  /* Default theme specific background. It is overwritten whether we have a\n",
       "  specific estimator or a Pipeline/ColumnTransformer */\n",
       "  background-color: var(--sklearn-color-background);\n",
       "}\n",
       "\n",
       "/* Toggleable label */\n",
       "#sk-container-id-33 label.sk-toggleable__label {\n",
       "  cursor: pointer;\n",
       "  display: block;\n",
       "  width: 100%;\n",
       "  margin-bottom: 0;\n",
       "  padding: 0.5em;\n",
       "  box-sizing: border-box;\n",
       "  text-align: center;\n",
       "}\n",
       "\n",
       "#sk-container-id-33 label.sk-toggleable__label-arrow:before {\n",
       "  /* Arrow on the left of the label */\n",
       "  content: \"▸\";\n",
       "  float: left;\n",
       "  margin-right: 0.25em;\n",
       "  color: var(--sklearn-color-icon);\n",
       "}\n",
       "\n",
       "#sk-container-id-33 label.sk-toggleable__label-arrow:hover:before {\n",
       "  color: var(--sklearn-color-text);\n",
       "}\n",
       "\n",
       "/* Toggleable content - dropdown */\n",
       "\n",
       "#sk-container-id-33 div.sk-toggleable__content {\n",
       "  max-height: 0;\n",
       "  max-width: 0;\n",
       "  overflow: hidden;\n",
       "  text-align: left;\n",
       "  /* unfitted */\n",
       "  background-color: var(--sklearn-color-unfitted-level-0);\n",
       "}\n",
       "\n",
       "#sk-container-id-33 div.sk-toggleable__content.fitted {\n",
       "  /* fitted */\n",
       "  background-color: var(--sklearn-color-fitted-level-0);\n",
       "}\n",
       "\n",
       "#sk-container-id-33 div.sk-toggleable__content pre {\n",
       "  margin: 0.2em;\n",
       "  border-radius: 0.25em;\n",
       "  color: var(--sklearn-color-text);\n",
       "  /* unfitted */\n",
       "  background-color: var(--sklearn-color-unfitted-level-0);\n",
       "}\n",
       "\n",
       "#sk-container-id-33 div.sk-toggleable__content.fitted pre {\n",
       "  /* unfitted */\n",
       "  background-color: var(--sklearn-color-fitted-level-0);\n",
       "}\n",
       "\n",
       "#sk-container-id-33 input.sk-toggleable__control:checked~div.sk-toggleable__content {\n",
       "  /* Expand drop-down */\n",
       "  max-height: 200px;\n",
       "  max-width: 100%;\n",
       "  overflow: auto;\n",
       "}\n",
       "\n",
       "#sk-container-id-33 input.sk-toggleable__control:checked~label.sk-toggleable__label-arrow:before {\n",
       "  content: \"▾\";\n",
       "}\n",
       "\n",
       "/* Pipeline/ColumnTransformer-specific style */\n",
       "\n",
       "#sk-container-id-33 div.sk-label input.sk-toggleable__control:checked~label.sk-toggleable__label {\n",
       "  color: var(--sklearn-color-text);\n",
       "  background-color: var(--sklearn-color-unfitted-level-2);\n",
       "}\n",
       "\n",
       "#sk-container-id-33 div.sk-label.fitted input.sk-toggleable__control:checked~label.sk-toggleable__label {\n",
       "  background-color: var(--sklearn-color-fitted-level-2);\n",
       "}\n",
       "\n",
       "/* Estimator-specific style */\n",
       "\n",
       "/* Colorize estimator box */\n",
       "#sk-container-id-33 div.sk-estimator input.sk-toggleable__control:checked~label.sk-toggleable__label {\n",
       "  /* unfitted */\n",
       "  background-color: var(--sklearn-color-unfitted-level-2);\n",
       "}\n",
       "\n",
       "#sk-container-id-33 div.sk-estimator.fitted input.sk-toggleable__control:checked~label.sk-toggleable__label {\n",
       "  /* fitted */\n",
       "  background-color: var(--sklearn-color-fitted-level-2);\n",
       "}\n",
       "\n",
       "#sk-container-id-33 div.sk-label label.sk-toggleable__label,\n",
       "#sk-container-id-33 div.sk-label label {\n",
       "  /* The background is the default theme color */\n",
       "  color: var(--sklearn-color-text-on-default-background);\n",
       "}\n",
       "\n",
       "/* On hover, darken the color of the background */\n",
       "#sk-container-id-33 div.sk-label:hover label.sk-toggleable__label {\n",
       "  color: var(--sklearn-color-text);\n",
       "  background-color: var(--sklearn-color-unfitted-level-2);\n",
       "}\n",
       "\n",
       "/* Label box, darken color on hover, fitted */\n",
       "#sk-container-id-33 div.sk-label.fitted:hover label.sk-toggleable__label.fitted {\n",
       "  color: var(--sklearn-color-text);\n",
       "  background-color: var(--sklearn-color-fitted-level-2);\n",
       "}\n",
       "\n",
       "/* Estimator label */\n",
       "\n",
       "#sk-container-id-33 div.sk-label label {\n",
       "  font-family: monospace;\n",
       "  font-weight: bold;\n",
       "  display: inline-block;\n",
       "  line-height: 1.2em;\n",
       "}\n",
       "\n",
       "#sk-container-id-33 div.sk-label-container {\n",
       "  text-align: center;\n",
       "}\n",
       "\n",
       "/* Estimator-specific */\n",
       "#sk-container-id-33 div.sk-estimator {\n",
       "  font-family: monospace;\n",
       "  border: 1px dotted var(--sklearn-color-border-box);\n",
       "  border-radius: 0.25em;\n",
       "  box-sizing: border-box;\n",
       "  margin-bottom: 0.5em;\n",
       "  /* unfitted */\n",
       "  background-color: var(--sklearn-color-unfitted-level-0);\n",
       "}\n",
       "\n",
       "#sk-container-id-33 div.sk-estimator.fitted {\n",
       "  /* fitted */\n",
       "  background-color: var(--sklearn-color-fitted-level-0);\n",
       "}\n",
       "\n",
       "/* on hover */\n",
       "#sk-container-id-33 div.sk-estimator:hover {\n",
       "  /* unfitted */\n",
       "  background-color: var(--sklearn-color-unfitted-level-2);\n",
       "}\n",
       "\n",
       "#sk-container-id-33 div.sk-estimator.fitted:hover {\n",
       "  /* fitted */\n",
       "  background-color: var(--sklearn-color-fitted-level-2);\n",
       "}\n",
       "\n",
       "/* Specification for estimator info (e.g. \"i\" and \"?\") */\n",
       "\n",
       "/* Common style for \"i\" and \"?\" */\n",
       "\n",
       ".sk-estimator-doc-link,\n",
       "a:link.sk-estimator-doc-link,\n",
       "a:visited.sk-estimator-doc-link {\n",
       "  float: right;\n",
       "  font-size: smaller;\n",
       "  line-height: 1em;\n",
       "  font-family: monospace;\n",
       "  background-color: var(--sklearn-color-background);\n",
       "  border-radius: 1em;\n",
       "  height: 1em;\n",
       "  width: 1em;\n",
       "  text-decoration: none !important;\n",
       "  margin-left: 1ex;\n",
       "  /* unfitted */\n",
       "  border: var(--sklearn-color-unfitted-level-1) 1pt solid;\n",
       "  color: var(--sklearn-color-unfitted-level-1);\n",
       "}\n",
       "\n",
       ".sk-estimator-doc-link.fitted,\n",
       "a:link.sk-estimator-doc-link.fitted,\n",
       "a:visited.sk-estimator-doc-link.fitted {\n",
       "  /* fitted */\n",
       "  border: var(--sklearn-color-fitted-level-1) 1pt solid;\n",
       "  color: var(--sklearn-color-fitted-level-1);\n",
       "}\n",
       "\n",
       "/* On hover */\n",
       "div.sk-estimator:hover .sk-estimator-doc-link:hover,\n",
       ".sk-estimator-doc-link:hover,\n",
       "div.sk-label-container:hover .sk-estimator-doc-link:hover,\n",
       ".sk-estimator-doc-link:hover {\n",
       "  /* unfitted */\n",
       "  background-color: var(--sklearn-color-unfitted-level-3);\n",
       "  color: var(--sklearn-color-background);\n",
       "  text-decoration: none;\n",
       "}\n",
       "\n",
       "div.sk-estimator.fitted:hover .sk-estimator-doc-link.fitted:hover,\n",
       ".sk-estimator-doc-link.fitted:hover,\n",
       "div.sk-label-container:hover .sk-estimator-doc-link.fitted:hover,\n",
       ".sk-estimator-doc-link.fitted:hover {\n",
       "  /* fitted */\n",
       "  background-color: var(--sklearn-color-fitted-level-3);\n",
       "  color: var(--sklearn-color-background);\n",
       "  text-decoration: none;\n",
       "}\n",
       "\n",
       "/* Span, style for the box shown on hovering the info icon */\n",
       ".sk-estimator-doc-link span {\n",
       "  display: none;\n",
       "  z-index: 9999;\n",
       "  position: relative;\n",
       "  font-weight: normal;\n",
       "  right: .2ex;\n",
       "  padding: .5ex;\n",
       "  margin: .5ex;\n",
       "  width: min-content;\n",
       "  min-width: 20ex;\n",
       "  max-width: 50ex;\n",
       "  color: var(--sklearn-color-text);\n",
       "  box-shadow: 2pt 2pt 4pt #999;\n",
       "  /* unfitted */\n",
       "  background: var(--sklearn-color-unfitted-level-0);\n",
       "  border: .5pt solid var(--sklearn-color-unfitted-level-3);\n",
       "}\n",
       "\n",
       ".sk-estimator-doc-link.fitted span {\n",
       "  /* fitted */\n",
       "  background: var(--sklearn-color-fitted-level-0);\n",
       "  border: var(--sklearn-color-fitted-level-3);\n",
       "}\n",
       "\n",
       ".sk-estimator-doc-link:hover span {\n",
       "  display: block;\n",
       "}\n",
       "\n",
       "/* \"?\"-specific style due to the `<a>` HTML tag */\n",
       "\n",
       "#sk-container-id-33 a.estimator_doc_link {\n",
       "  float: right;\n",
       "  font-size: 1rem;\n",
       "  line-height: 1em;\n",
       "  font-family: monospace;\n",
       "  background-color: var(--sklearn-color-background);\n",
       "  border-radius: 1rem;\n",
       "  height: 1rem;\n",
       "  width: 1rem;\n",
       "  text-decoration: none;\n",
       "  /* unfitted */\n",
       "  color: var(--sklearn-color-unfitted-level-1);\n",
       "  border: var(--sklearn-color-unfitted-level-1) 1pt solid;\n",
       "}\n",
       "\n",
       "#sk-container-id-33 a.estimator_doc_link.fitted {\n",
       "  /* fitted */\n",
       "  border: var(--sklearn-color-fitted-level-1) 1pt solid;\n",
       "  color: var(--sklearn-color-fitted-level-1);\n",
       "}\n",
       "\n",
       "/* On hover */\n",
       "#sk-container-id-33 a.estimator_doc_link:hover {\n",
       "  /* unfitted */\n",
       "  background-color: var(--sklearn-color-unfitted-level-3);\n",
       "  color: var(--sklearn-color-background);\n",
       "  text-decoration: none;\n",
       "}\n",
       "\n",
       "#sk-container-id-33 a.estimator_doc_link.fitted:hover {\n",
       "  /* fitted */\n",
       "  background-color: var(--sklearn-color-fitted-level-3);\n",
       "}\n",
       "</style><div id=\"sk-container-id-33\" class=\"sk-top-container\"><div class=\"sk-text-repr-fallback\"><pre>LinearSVC(dual=False)</pre><b>In a Jupyter environment, please rerun this cell to show the HTML representation or trust the notebook. <br />On GitHub, the HTML representation is unable to render, please try loading this page with nbviewer.org.</b></div><div class=\"sk-container\" hidden><div class=\"sk-item\"><div class=\"sk-estimator fitted sk-toggleable\"><input class=\"sk-toggleable__control sk-hidden--visually\" id=\"sk-estimator-id-33\" type=\"checkbox\" checked><label for=\"sk-estimator-id-33\" class=\"sk-toggleable__label fitted sk-toggleable__label-arrow fitted\">&nbsp;&nbsp;LinearSVC<a class=\"sk-estimator-doc-link fitted\" rel=\"noreferrer\" target=\"_blank\" href=\"https://scikit-learn.org/1.5/modules/generated/sklearn.svm.LinearSVC.html\">?<span>Documentation for LinearSVC</span></a><span class=\"sk-estimator-doc-link fitted\">i<span>Fitted</span></span></label><div class=\"sk-toggleable__content fitted\"><pre>LinearSVC(dual=False)</pre></div> </div></div></div></div>"
      ],
      "text/plain": [
       "LinearSVC(dual=False)"
      ]
     },
     "execution_count": 644,
     "metadata": {},
     "output_type": "execute_result"
    }
   ],
   "source": [
    "from sklearn.svm import LinearSVC\n",
    "\n",
    "svc = LinearSVC(dual=False)\n",
    "svc.fit(scaled_X_train_mean, y_train_mean)"
   ]
  },
  {
   "cell_type": "code",
   "execution_count": 645,
   "id": "9f1673f9",
   "metadata": {},
   "outputs": [],
   "source": [
    "from sklearn.metrics import classification_report, ConfusionMatrixDisplay\n",
    "\n",
    "scaled_X_val_mean = scaler.transform(X_val_mean)\n",
    "val_predictions_mean = svc.predict(scaled_X_val_mean)"
   ]
  },
  {
   "cell_type": "code",
   "execution_count": 646,
   "id": "0747e50b",
   "metadata": {},
   "outputs": [
    {
     "name": "stdout",
     "output_type": "stream",
     "text": [
      "              precision    recall  f1-score   support\n",
      "\n",
      "     colombi       0.57      0.78      0.66       100\n",
      "       neera       0.79      0.55      0.65       100\n",
      "       serao       0.83      0.78      0.80       100\n",
      "\n",
      "    accuracy                           0.70       300\n",
      "   macro avg       0.73      0.70      0.70       300\n",
      "weighted avg       0.73      0.70      0.70       300\n",
      "\n"
     ]
    }
   ],
   "source": [
    "print(classification_report(y_val_mean, val_predictions_mean,  zero_division=0))"
   ]
  },
  {
   "cell_type": "code",
   "execution_count": 647,
   "id": "dce4bc03",
   "metadata": {},
   "outputs": [
    {
     "data": {
      "text/plain": [
       "<sklearn.metrics._plot.confusion_matrix.ConfusionMatrixDisplay at 0x35e459eb0>"
      ]
     },
     "execution_count": 647,
     "metadata": {},
     "output_type": "execute_result"
    },
    {
     "data": {
      "image/png": "[encoded data removed]",
      "text/plain": [
       "<Figure size 640x480 with 2 Axes>"
      ]
     },
     "metadata": {},
     "output_type": "display_data"
    }
   ],
   "source": [
    "ConfusionMatrixDisplay.from_predictions(val_labels_mean, val_predictions_mean, xticks_rotation='vertical', cmap='Blues')"
   ]
  },
  {
   "cell_type": "markdown",
   "id": "bb11ab36",
   "metadata": {},
   "source": [
    "## Prestazioni sul Test set della configurazione più performante\n",
    "\n",
    "Media degli embeddings non concatenati"
   ]
  },
  {
   "cell_type": "code",
   "execution_count": 648,
   "id": "d310903c",
   "metadata": {},
   "outputs": [],
   "source": [
    "scaled_X_test_mean = scaler.transform(X_test_mean)\n",
    "test_predictions_mean = svc.predict(scaled_X_test_mean)"
   ]
  },
  {
   "cell_type": "code",
   "execution_count": 649,
   "id": "c29298cb",
   "metadata": {},
   "outputs": [
    {
     "name": "stdout",
     "output_type": "stream",
     "text": [
      "              precision    recall  f1-score   support\n",
      "\n",
      "     colombi       0.58      0.79      0.67       100\n",
      "       neera       0.79      0.55      0.65       100\n",
      "       serao       0.77      0.72      0.74       100\n",
      "\n",
      "    accuracy                           0.69       300\n",
      "   macro avg       0.71      0.69      0.69       300\n",
      "weighted avg       0.71      0.69      0.69       300\n",
      "\n"
     ]
    }
   ],
   "source": [
    "print(classification_report(y_test_mean, test_predictions_mean,  zero_division=0))"
   ]
  },
  {
   "cell_type": "code",
   "execution_count": 650,
   "id": "4f1f44ca",
   "metadata": {},
   "outputs": [
    {
     "data": {
      "text/plain": [
       "<sklearn.metrics._plot.confusion_matrix.ConfusionMatrixDisplay at 0x35e424620>"
      ]
     },
     "execution_count": 650,
     "metadata": {},
     "output_type": "execute_result"
    },
    {
     "data": {
      "image/png": "[encoded data removed]",
      "text/plain": [
       "<Figure size 640x480 with 2 Axes>"
      ]
     },
     "metadata": {},
     "output_type": "display_data"
    }
   ],
   "source": [
    "ConfusionMatrixDisplay.from_predictions(test_labels_mean, test_predictions_mean, xticks_rotation='vertical', cmap='Blues')"
   ]
  },
  {
   "cell_type": "markdown",
   "id": "58039de2",
   "metadata": {},
   "source": [
    "## Altri tentativi meno performanti\n",
    "\n",
    "(per comodità, alcune celle di codice sono state aggregate)"
   ]
  },
  {
   "cell_type": "markdown",
   "id": "967e2942",
   "metadata": {},
   "source": [
    "### Secondo tentativo: medie dei word embedding delle parole piene concatenate\n",
    "\n",
    "Calcolo la media separatamente dei word embedding di aggettivi, nomi e verbi, e concateno i 3 vettori ottenuti."
   ]
  },
  {
   "cell_type": "code",
   "execution_count": 651,
   "id": "8f6e6604",
   "metadata": {},
   "outputs": [],
   "source": [
    "# Creo una copia della lista dei documenti per utlizzarla nel primo tentativo\n",
    "\n",
    "lista_doc_mean_concatenate = lista_documenti.copy()"
   ]
  },
  {
   "cell_type": "code",
   "execution_count": 652,
   "id": "bea75cfd",
   "metadata": {},
   "outputs": [],
   "source": [
    "def compute_filtered_embeddings_sep_means(document_tokens):\n",
    "    adj_embeddings = []\n",
    "    noun_embeddings = []\n",
    "    verb_embeddings = []\n",
    "    \n",
    "    for token in document_tokens:\n",
    "        word = token.word\n",
    "        pos = token.pos\n",
    "        if word in embeddings and pos in ['ADJ']:\n",
    "            adj_embeddings.append(embeddings[word])\n",
    "        elif word in embeddings and pos in ['NOUN']:\n",
    "            noun_embeddings.append(embeddings[word])\n",
    "        elif word in embeddings and pos in ['VERB']:\n",
    "            verb_embeddings.append(embeddings[word])\n",
    "    \n",
    "    if len(adj_embeddings) == 0:\n",
    "        mean_adj_embeddings = np.zeros(embeddings_dim)\n",
    "    else:\n",
    "        mean_adj_embeddings = compute_embeddings_mean(adj_embeddings)\n",
    "        \n",
    "    if len(noun_embeddings) == 0:\n",
    "        mean_noun_embeddings = np.zeros(embeddings_dim)\n",
    "    else:\n",
    "        mean_noun_embeddings = compute_embeddings_mean(noun_embeddings)\n",
    "        \n",
    "    if len(verb_embeddings) == 0:\n",
    "        mean_verb_embeddings = np.zeros(embeddings_dim)\n",
    "    else:\n",
    "        mean_verb_embeddings = compute_embeddings_mean(verb_embeddings)  \n",
    "    \n",
    "    \n",
    "    mean_document_embeddings = np.concatenate([mean_adj_embeddings, mean_noun_embeddings, mean_verb_embeddings], axis=None)\n",
    "    return mean_document_embeddings"
   ]
  },
  {
   "cell_type": "code",
   "execution_count": 653,
   "id": "8551bbff",
   "metadata": {},
   "outputs": [],
   "source": [
    "def extract_features_filtered(documents):\n",
    "    for document in documents:\n",
    "        # document_embeddings = compute_all_embeddings_mean(document.tokens)\n",
    "        document_embeddings = compute_filtered_embeddings_sep_means(document.tokens)\n",
    "        # document_embeddings = compute_filtered_embeddings_sep_means(document.tokens)\n",
    "        document.features = document_embeddings"
   ]
  },
  {
   "cell_type": "code",
   "execution_count": 654,
   "id": "acf18d77",
   "metadata": {},
   "outputs": [],
   "source": [
    "extract_features_filtered(lista_doc_mean_concatenate)"
   ]
  },
  {
   "cell_type": "code",
   "execution_count": 655,
   "id": "b99a668b",
   "metadata": {},
   "outputs": [
    {
     "data": {
      "text/plain": [
       "array([ 9.21041233e-02, -2.13116006e-02,  5.81576540e-02,  5.54699606e-02,\n",
       "       -5.63036726e-03,  3.65469046e-02,  2.35771763e-02,  5.73316310e-02,\n",
       "        7.65379930e-02, -6.31375494e-03, -3.34560527e-02,  8.19045594e-02,\n",
       "       -4.11692473e-02, -2.46838235e-02, -2.29652129e-02,  6.17113098e-02,\n",
       "       -4.53700774e-02,  3.17084165e-02,  1.53175321e-02,  2.08843487e-02,\n",
       "        4.80283188e-02,  5.21063292e-02,  6.35938860e-02, -7.89405111e-02,\n",
       "       -1.64409181e-02, -9.49351519e-02,  1.11724477e-02,  7.58670107e-03,\n",
       "       -2.61807535e-03,  2.95654168e-03, -8.14378276e-02,  9.10063597e-02,\n",
       "       -2.18736806e-02,  1.05503178e-02, -1.59386330e-02, -2.07463290e-02,\n",
       "        8.00355130e-02,  1.10229108e-02,  2.25948412e-02, -1.52071327e-02,\n",
       "        2.81596171e-02,  9.49384800e-03,  4.97113603e-04, -6.14836651e-02,\n",
       "       -4.75778918e-02, -2.80898823e-02,  6.69533151e-02, -2.86336088e-02,\n",
       "       -2.94270092e-02, -3.52860397e-02, -1.43830351e-02,  4.71959569e-02,\n",
       "       -5.20478820e-02, -3.91685778e-02, -3.15386740e-03,  6.05286864e-02,\n",
       "        1.95914696e-02,  8.99291045e-02,  2.83526733e-02, -3.03459807e-02,\n",
       "        6.92000827e-02,  4.33343818e-02, -7.16982111e-02,  2.76115360e-02,\n",
       "        3.33877036e-02, -4.75542717e-02,  6.85552483e-02,  8.69459913e-02,\n",
       "       -3.52514186e-02, -7.86828063e-02, -1.48223886e-01,  2.08824899e-02,\n",
       "        1.87938592e-02, -1.59504699e-02,  3.49222543e-03, -1.11942644e-01,\n",
       "        2.66673705e-02,  3.21253459e-02,  6.06292541e-02, -6.68318872e-02,\n",
       "        3.12591779e-03,  4.94580235e-02, -5.10082993e-02, -5.40266374e-02,\n",
       "        3.24251410e-02, -1.82387152e-02,  3.27814784e-03,  4.19233694e-02,\n",
       "       -1.61744937e-02,  9.01942809e-03, -2.62139831e-03, -5.49878584e-03,\n",
       "        5.72150219e-02, -8.89191022e-02,  4.14437339e-03, -1.08585878e-02,\n",
       "        6.13189215e-02,  1.71741420e-03,  6.00475001e-02, -4.19946977e-02,\n",
       "        4.69348816e-02, -6.88763312e-03,  2.14903659e-02, -1.04375668e-01,\n",
       "        3.36601635e-02, -2.93500181e-02,  1.16955816e-02, -5.66125701e-02,\n",
       "        1.10546785e-02, -6.93287904e-02,  2.27356131e-02,  2.05519667e-02,\n",
       "        1.04223357e-01,  2.37111681e-02, -1.11758641e-02,  3.50890051e-02,\n",
       "       -3.99283244e-02,  1.70709044e-02, -8.10548632e-02,  1.35238538e-02,\n",
       "       -1.37307289e-01, -2.29855749e-02,  4.62085828e-02, -6.74803791e-02,\n",
       "       -5.39218450e-02,  6.39348693e-02,  2.47328114e-02, -2.99488480e-02,\n",
       "        1.16382154e-01, -3.81982906e-02,  6.07434577e-02, -2.13605924e-02,\n",
       "       -3.52794922e-02, -3.94323340e-03,  9.31234159e-02,  4.87742892e-03,\n",
       "        1.07887059e-01,  2.82870803e-02, -4.56308507e-02, -1.73587225e-02,\n",
       "        5.42707862e-02,  2.75276053e-02, -1.71951123e-02,  3.41810303e-02,\n",
       "        2.06835421e-02, -7.84553182e-03, -4.55530573e-02, -2.01786196e-02,\n",
       "       -4.83821238e-03,  1.10081836e-02,  3.75532310e-02, -1.30984149e-02,\n",
       "       -7.52750718e-02, -2.21346567e-02, -3.91210536e-02,  3.53150067e-02,\n",
       "        9.27405518e-03, -7.55284668e-02, -4.92076720e-02, -5.96826634e-02,\n",
       "       -3.06244799e-02,  2.52535153e-02,  3.22633821e-02, -3.16207499e-02,\n",
       "        3.80152521e-02,  3.33796650e-02,  9.88832475e-03, -2.60628989e-02,\n",
       "       -8.49338794e-03,  3.67574497e-03, -9.38081924e-03, -7.82493853e-02,\n",
       "       -1.15724658e-01,  3.96330194e-02,  2.88916559e-02,  7.93905665e-02,\n",
       "        8.49469103e-03, -7.96016073e-04,  6.56648497e-02,  6.93171449e-02,\n",
       "       -1.30900410e-02,  3.71067951e-02, -3.46773226e-02, -1.74714229e-02,\n",
       "        3.55373542e-02,  1.58708335e-02,  3.09246017e-02,  1.64685642e-02,\n",
       "       -2.55154707e-02, -9.20012945e-03, -1.50364754e-02, -1.78460265e-02,\n",
       "        2.15776160e-02,  5.66384906e-02, -2.03483322e-02,  1.09689031e-02,\n",
       "       -6.78928047e-03, -7.53006171e-02, -7.44339995e-02,  1.29546406e-02,\n",
       "       -7.29608100e-02,  1.39367323e-02,  6.40919523e-02, -4.10473080e-02,\n",
       "        1.89544402e-02,  9.51067754e-02,  9.85467518e-02,  2.61639098e-02,\n",
       "        1.88585712e-02,  5.09347832e-02, -1.49571108e-01, -1.02956293e-03,\n",
       "        6.77613322e-02, -5.30167741e-02,  1.50778139e-02,  4.50435819e-02,\n",
       "       -1.74835560e-02, -5.25692731e-02,  3.03018393e-02,  1.93292479e-02,\n",
       "        5.70747983e-02,  1.35232821e-02, -2.06092193e-02,  2.92396243e-02,\n",
       "       -1.97212490e-03, -9.99442039e-03,  2.24737105e-02,  5.93205632e-02,\n",
       "        3.42200273e-02, -1.48379189e-02,  6.46662396e-03,  1.07009884e-02,\n",
       "        3.40687840e-02, -3.26485453e-02, -4.09545088e-03, -2.88803931e-02,\n",
       "       -3.86298786e-02,  1.06100263e-01, -3.33846187e-03,  4.50006292e-02,\n",
       "        6.06932491e-02, -1.21271524e-03, -3.87668377e-02,  2.26592943e-02,\n",
       "        9.93280379e-02, -4.14870879e-02,  6.75184170e-05, -4.13662226e-02,\n",
       "       -4.88393108e-02,  2.97073395e-02,  1.13128694e-03, -8.15864151e-02,\n",
       "       -6.59466322e-04,  6.28264314e-02,  1.25487846e-01,  1.24055628e-02,\n",
       "        1.48354277e-02, -6.21931250e-02,  6.12892642e-02, -2.67061677e-02,\n",
       "       -6.59719651e-02,  3.80470086e-02,  7.08458166e-02,  2.71373378e-02,\n",
       "        4.47926433e-02,  4.27442224e-02, -2.88196550e-02,  2.22691800e-02,\n",
       "        4.51899960e-02,  6.07068471e-02, -2.71619072e-02,  1.13988357e-02,\n",
       "       -1.62072075e-02,  7.61918933e-03, -8.87584169e-02,  7.49828783e-02,\n",
       "       -1.82511271e-02, -6.44651307e-02, -5.93736977e-03, -9.47549710e-02,\n",
       "        2.69380285e-02, -7.78041908e-03, -3.75477755e-02,  3.98640845e-02,\n",
       "       -2.24060786e-02, -4.43955162e-03,  6.74231991e-03, -1.55035307e-02,\n",
       "        1.43268461e-02,  1.23224478e-02,  2.87938041e-02, -2.76876261e-02,\n",
       "        3.74916650e-02,  3.42412572e-02, -2.07726692e-03,  4.17727616e-02,\n",
       "        1.32879103e-03,  3.21051173e-02,  8.10753088e-03,  2.73261392e-02,\n",
       "       -4.19829115e-02,  5.61582705e-03,  5.35485631e-02,  5.46234865e-02,\n",
       "        4.01532045e-04, -1.80144781e-02,  8.14288325e-02, -4.57135462e-02,\n",
       "       -7.25159456e-02, -2.49767408e-02, -3.27936129e-02,  3.78618633e-02,\n",
       "        4.77388881e-02,  6.42667583e-02,  3.14365590e-02,  5.96847036e-04,\n",
       "       -6.88568148e-03,  3.18975676e-02, -1.15372725e-02,  8.46703150e-02,\n",
       "       -1.31433195e-02,  3.75160329e-02,  9.42686084e-02,  1.32277667e-02,\n",
       "       -2.75037913e-02, -1.69821102e-02, -1.61555880e-01,  3.12724723e-02,\n",
       "        9.47946636e-03, -8.94985639e-03,  6.00415873e-02, -2.38337918e-02,\n",
       "        1.80546113e-02,  2.12770757e-03,  9.80290682e-02, -2.51138883e-02,\n",
       "       -1.57323712e-03,  1.75305889e-02, -9.33995924e-02, -4.73933425e-02,\n",
       "        3.30954480e-02,  2.82470847e-02, -2.58403574e-03,  6.03308912e-02,\n",
       "       -3.58117500e-02, -2.68791893e-02,  2.75340204e-02,  2.48081946e-02,\n",
       "        9.80797330e-03,  8.23216366e-02,  8.94555687e-02,  6.10974540e-02,\n",
       "        1.33853530e-02,  2.04466612e-02, -2.14393744e-02, -3.01447800e-02,\n",
       "       -3.89099100e-02,  4.08158260e-02,  3.49410891e-02, -4.51919796e-02,\n",
       "        9.89457972e-03, -4.28016418e-02, -3.16728225e-02,  6.41534192e-03,\n",
       "       -4.09549592e-02,  4.48735803e-03, -2.73857312e-02, -8.57219822e-03,\n",
       "        9.52991279e-03,  2.06895871e-02, -2.12184491e-02,  8.81651762e-02,\n",
       "        2.42586248e-03,  8.88399411e-03, -5.27875517e-02, -1.71606765e-02,\n",
       "       -4.17805766e-02, -2.35969929e-02,  7.91712153e-02, -4.18844263e-02,\n",
       "        2.16177546e-02,  6.46191322e-02,  2.60230788e-02,  7.74920047e-02])"
      ]
     },
     "execution_count": 655,
     "metadata": {},
     "output_type": "execute_result"
    }
   ],
   "source": [
    "lista_doc_mean_concatenate[0].features"
   ]
  },
  {
   "cell_type": "markdown",
   "id": "d7e6c677",
   "metadata": {},
   "source": [
    "#### Divisione tra training, test e validation"
   ]
  },
  {
   "cell_type": "code",
   "execution_count": 656,
   "id": "17894d8e",
   "metadata": {},
   "outputs": [
    {
     "name": "stdout",
     "output_type": "stream",
     "text": [
      "              precision    recall  f1-score   support\n",
      "\n",
      "     colombi       0.41      0.47      0.44       100\n",
      "       neera       0.46      0.37      0.41       100\n",
      "       serao       0.44      0.45      0.44       100\n",
      "\n",
      "    accuracy                           0.43       300\n",
      "   macro avg       0.43      0.43      0.43       300\n",
      "weighted avg       0.43      0.43      0.43       300\n",
      "\n"
     ]
    }
   ],
   "source": [
    "train_features_mean_concatenate, train_labels_mean_concatenate, test_features_mean_concatenate, test_labels_mean_concatenate, val_features_mean_concatenate, val_labels_mean_concatenate = train_test_val_split(lista_doc_mean_concatenate)\n",
    "\n",
    "X_train_mean_concatenate = np.array(train_features_mean_concatenate)\n",
    "y_train_mean_concatenate = np.array(train_labels_mean_concatenate)\n",
    "X_test_mean_concatenate = np.array(test_features_mean_concatenate)\n",
    "y_test_mean_concatenate = np.array(test_labels_mean_concatenate)\n",
    "X_val_mean_concatenate = np.array(val_features_mean_concatenate)\n",
    "y_val_mean_concatenate = np.array(val_labels_mean_concatenate)\n",
    "\n",
    "scaled_X_train_mean_concatenate = scaler.fit_transform(X_train_mean_concatenate)\n",
    "svc.fit(scaled_X_train_mean_concatenate, y_train_mean_concatenate)\n",
    "\n",
    "scaled_X_val_mean_concatenate = scaler.transform(X_val_mean_concatenate)\n",
    "\n",
    "val_predictions_mean_concatenate = svc.predict(scaled_X_val_mean_concatenate)\n",
    "print(classification_report(y_val_mean_concatenate, val_predictions_mean_concatenate,  zero_division=0))"
   ]
  },
  {
   "cell_type": "markdown",
   "id": "509a2307",
   "metadata": {},
   "source": [
    "### Terzo tentativo: medie dei word embedding di alcune pos, concatenate\n",
    "\n",
    "Calcolo la media separatamente dei word embedding di adj, noun, verb, aux, det, adp e pron e concateno i vettori ottenuti."
   ]
  },
  {
   "cell_type": "code",
   "execution_count": 657,
   "id": "194add1b",
   "metadata": {},
   "outputs": [],
   "source": [
    "# Creo una copia della lista dei documenti per utlizzarla nel primo tentativo\n",
    "\n",
    "lista_doc_pos = lista_documenti.copy()"
   ]
  },
  {
   "cell_type": "code",
   "execution_count": 658,
   "id": "0889395e",
   "metadata": {},
   "outputs": [],
   "source": [
    "def compute_concatenate_embeddings_sep_means(document_tokens):\n",
    "    adj_embeddings = []\n",
    "    noun_embeddings = []\n",
    "    verb_embeddings = []\n",
    "    aux_embeddings = []\n",
    "    det_embeddings = []\n",
    "    adp_embeddings = []\n",
    "    pron_embeddings = []\n",
    "    \n",
    "    for token in document_tokens:\n",
    "        word = token.word\n",
    "        pos = token.pos\n",
    "        if word in embeddings and pos in ['ADJ']:\n",
    "            adj_embeddings.append(embeddings[word])\n",
    "        elif word in embeddings and pos in ['NOUN']:\n",
    "            noun_embeddings.append(embeddings[word])\n",
    "        elif word in embeddings and pos in ['VERB']:\n",
    "            verb_embeddings.append(embeddings[word])\n",
    "        elif word in embeddings and pos in ['AUX']:\n",
    "            aux_embeddings.append(embeddings[word])\n",
    "        elif word in embeddings and pos in ['DET']:\n",
    "            det_embeddings.append(embeddings[word])\n",
    "        elif word in embeddings and pos in ['ADP']:\n",
    "            adp_embeddings.append(embeddings[word])\n",
    "        elif word in embeddings and pos in ['PRON']:\n",
    "            pron_embeddings.append(embeddings[word])\n",
    "        \n",
    "        \n",
    "    \n",
    "    if len(adj_embeddings) == 0:\n",
    "        mean_adj_embeddings = np.zeros(embeddings_dim)\n",
    "    else:\n",
    "        mean_adj_embeddings = compute_embeddings_mean(adj_embeddings)\n",
    "        \n",
    "    if len(noun_embeddings) == 0:\n",
    "        mean_noun_embeddings = np.zeros(embeddings_dim)\n",
    "    else:\n",
    "        mean_noun_embeddings = compute_embeddings_mean(noun_embeddings)\n",
    "        \n",
    "    if len(verb_embeddings) == 0:\n",
    "        mean_verb_embeddings = np.zeros(embeddings_dim)\n",
    "    else:\n",
    "        mean_verb_embeddings = compute_embeddings_mean(verb_embeddings)  \n",
    "    \n",
    "    if len(aux_embeddings) == 0:\n",
    "        mean_aux_embeddings = np.zeros(embeddings_dim)\n",
    "    else:\n",
    "        mean_aux_embeddings = compute_embeddings_mean(aux_embeddings)\n",
    "\n",
    "    if len(det_embeddings) == 0:\n",
    "        mean_det_embeddings = np.zeros(embeddings_dim)\n",
    "    else:\n",
    "        mean_det_embeddings = compute_embeddings_mean(det_embeddings)\n",
    "    \n",
    "    if len(adp_embeddings) == 0:\n",
    "        mean_adp_embeddings = np.zeros(embeddings_dim)\n",
    "    else:\n",
    "        mean_adp_embeddings = compute_embeddings_mean(adp_embeddings)\n",
    "    \n",
    "    if len(pron_embeddings) == 0:\n",
    "        mean_pron_embeddings = np.zeros(embeddings_dim)\n",
    "    else:\n",
    "        mean_pron_embeddings = compute_embeddings_mean(pron_embeddings)\n",
    "    \n",
    "    mean_document_embeddings = np.concatenate([mean_adj_embeddings, mean_noun_embeddings, mean_verb_embeddings, mean_aux_embeddings, mean_det_embeddings, mean_adp_embeddings, mean_pron_embeddings], axis=None)\n",
    "    return mean_document_embeddings"
   ]
  },
  {
   "cell_type": "code",
   "execution_count": 659,
   "id": "f79fae22",
   "metadata": {},
   "outputs": [],
   "source": [
    "def extract_features_concatenate(documents):\n",
    "    for document in documents:\n",
    "        # document_embeddings = compute_all_embeddings_mean(document.tokens)\n",
    "        document_embeddings = compute_concatenate_embeddings_sep_means(document.tokens)\n",
    "        # document_embeddings = compute_filtered_embeddings_sep_means(document.tokens)\n",
    "        document.features = document_embeddings"
   ]
  },
  {
   "cell_type": "code",
   "execution_count": 660,
   "id": "86778d0f",
   "metadata": {},
   "outputs": [],
   "source": [
    "extract_features_concatenate(lista_doc_pos)"
   ]
  },
  {
   "cell_type": "code",
   "execution_count": 661,
   "id": "230ff0bb",
   "metadata": {},
   "outputs": [
    {
     "data": {
      "text/plain": [
       "array([ 9.21041233e-02, -2.13116006e-02,  5.81576540e-02,  5.54699606e-02,\n",
       "       -5.63036726e-03,  3.65469046e-02,  2.35771763e-02,  5.73316310e-02,\n",
       "        7.65379930e-02, -6.31375494e-03, -3.34560527e-02,  8.19045594e-02,\n",
       "       -4.11692473e-02, -2.46838235e-02, -2.29652129e-02,  6.17113098e-02,\n",
       "       -4.53700774e-02,  3.17084165e-02,  1.53175321e-02,  2.08843487e-02,\n",
       "        4.80283188e-02,  5.21063292e-02,  6.35938860e-02, -7.89405111e-02,\n",
       "       -1.64409181e-02, -9.49351519e-02,  1.11724477e-02,  7.58670107e-03,\n",
       "       -2.61807535e-03,  2.95654168e-03, -8.14378276e-02,  9.10063597e-02,\n",
       "       -2.18736806e-02,  1.05503178e-02, -1.59386330e-02, -2.07463290e-02,\n",
       "        8.00355130e-02,  1.10229108e-02,  2.25948412e-02, -1.52071327e-02,\n",
       "        2.81596171e-02,  9.49384800e-03,  4.97113603e-04, -6.14836651e-02,\n",
       "       -4.75778918e-02, -2.80898823e-02,  6.69533151e-02, -2.86336088e-02,\n",
       "       -2.94270092e-02, -3.52860397e-02, -1.43830351e-02,  4.71959569e-02,\n",
       "       -5.20478820e-02, -3.91685778e-02, -3.15386740e-03,  6.05286864e-02,\n",
       "        1.95914696e-02,  8.99291045e-02,  2.83526733e-02, -3.03459807e-02,\n",
       "        6.92000827e-02,  4.33343818e-02, -7.16982111e-02,  2.76115360e-02,\n",
       "        3.33877036e-02, -4.75542717e-02,  6.85552483e-02,  8.69459913e-02,\n",
       "       -3.52514186e-02, -7.86828063e-02, -1.48223886e-01,  2.08824899e-02,\n",
       "        1.87938592e-02, -1.59504699e-02,  3.49222543e-03, -1.11942644e-01,\n",
       "        2.66673705e-02,  3.21253459e-02,  6.06292541e-02, -6.68318872e-02,\n",
       "        3.12591779e-03,  4.94580235e-02, -5.10082993e-02, -5.40266374e-02,\n",
       "        3.24251410e-02, -1.82387152e-02,  3.27814784e-03,  4.19233694e-02,\n",
       "       -1.61744937e-02,  9.01942809e-03, -2.62139831e-03, -5.49878584e-03,\n",
       "        5.72150219e-02, -8.89191022e-02,  4.14437339e-03, -1.08585878e-02,\n",
       "        6.13189215e-02,  1.71741420e-03,  6.00475001e-02, -4.19946977e-02,\n",
       "        4.69348816e-02, -6.88763312e-03,  2.14903659e-02, -1.04375668e-01,\n",
       "        3.36601635e-02, -2.93500181e-02,  1.16955816e-02, -5.66125701e-02,\n",
       "        1.10546785e-02, -6.93287904e-02,  2.27356131e-02,  2.05519667e-02,\n",
       "        1.04223357e-01,  2.37111681e-02, -1.11758641e-02,  3.50890051e-02,\n",
       "       -3.99283244e-02,  1.70709044e-02, -8.10548632e-02,  1.35238538e-02,\n",
       "       -1.37307289e-01, -2.29855749e-02,  4.62085828e-02, -6.74803791e-02,\n",
       "       -5.39218450e-02,  6.39348693e-02,  2.47328114e-02, -2.99488480e-02,\n",
       "        1.16382154e-01, -3.81982906e-02,  6.07434577e-02, -2.13605924e-02,\n",
       "       -3.52794922e-02, -3.94323340e-03,  9.31234159e-02,  4.87742892e-03,\n",
       "        1.07887059e-01,  2.82870803e-02, -4.56308507e-02, -1.73587225e-02,\n",
       "        5.42707862e-02,  2.75276053e-02, -1.71951123e-02,  3.41810303e-02,\n",
       "        2.06835421e-02, -7.84553182e-03, -4.55530573e-02, -2.01786196e-02,\n",
       "       -4.83821238e-03,  1.10081836e-02,  3.75532310e-02, -1.30984149e-02,\n",
       "       -7.52750718e-02, -2.21346567e-02, -3.91210536e-02,  3.53150067e-02,\n",
       "        9.27405518e-03, -7.55284668e-02, -4.92076720e-02, -5.96826634e-02,\n",
       "       -3.06244799e-02,  2.52535153e-02,  3.22633821e-02, -3.16207499e-02,\n",
       "        3.80152521e-02,  3.33796650e-02,  9.88832475e-03, -2.60628989e-02,\n",
       "       -8.49338794e-03,  3.67574497e-03, -9.38081924e-03, -7.82493853e-02,\n",
       "       -1.15724658e-01,  3.96330194e-02,  2.88916559e-02,  7.93905665e-02,\n",
       "        8.49469103e-03, -7.96016073e-04,  6.56648497e-02,  6.93171449e-02,\n",
       "       -1.30900410e-02,  3.71067951e-02, -3.46773226e-02, -1.74714229e-02,\n",
       "        3.55373542e-02,  1.58708335e-02,  3.09246017e-02,  1.64685642e-02,\n",
       "       -2.55154707e-02, -9.20012945e-03, -1.50364754e-02, -1.78460265e-02,\n",
       "        2.15776160e-02,  5.66384906e-02, -2.03483322e-02,  1.09689031e-02,\n",
       "       -6.78928047e-03, -7.53006171e-02, -7.44339995e-02,  1.29546406e-02,\n",
       "       -7.29608100e-02,  1.39367323e-02,  6.40919523e-02, -4.10473080e-02,\n",
       "        1.89544402e-02,  9.51067754e-02,  9.85467518e-02,  2.61639098e-02,\n",
       "        1.88585712e-02,  5.09347832e-02, -1.49571108e-01, -1.02956293e-03,\n",
       "        6.77613322e-02, -5.30167741e-02,  1.50778139e-02,  4.50435819e-02,\n",
       "       -1.74835560e-02, -5.25692731e-02,  3.03018393e-02,  1.93292479e-02,\n",
       "        5.70747983e-02,  1.35232821e-02, -2.06092193e-02,  2.92396243e-02,\n",
       "       -1.97212490e-03, -9.99442039e-03,  2.24737105e-02,  5.93205632e-02,\n",
       "        3.42200273e-02, -1.48379189e-02,  6.46662396e-03,  1.07009884e-02,\n",
       "        3.40687840e-02, -3.26485453e-02, -4.09545088e-03, -2.88803931e-02,\n",
       "       -3.86298786e-02,  1.06100263e-01, -3.33846187e-03,  4.50006292e-02,\n",
       "        6.06932491e-02, -1.21271524e-03, -3.87668377e-02,  2.26592943e-02,\n",
       "        9.93280379e-02, -4.14870879e-02,  6.75184170e-05, -4.13662226e-02,\n",
       "       -4.88393108e-02,  2.97073395e-02,  1.13128694e-03, -8.15864151e-02,\n",
       "       -6.59466322e-04,  6.28264314e-02,  1.25487846e-01,  1.24055628e-02,\n",
       "        1.48354277e-02, -6.21931250e-02,  6.12892642e-02, -2.67061677e-02,\n",
       "       -6.59719651e-02,  3.80470086e-02,  7.08458166e-02,  2.71373378e-02,\n",
       "        4.47926433e-02,  4.27442224e-02, -2.88196550e-02,  2.22691800e-02,\n",
       "        4.51899960e-02,  6.07068471e-02, -2.71619072e-02,  1.13988357e-02,\n",
       "       -1.62072075e-02,  7.61918933e-03, -8.87584169e-02,  7.49828783e-02,\n",
       "       -1.82511271e-02, -6.44651307e-02, -5.93736977e-03, -9.47549710e-02,\n",
       "        2.69380285e-02, -7.78041908e-03, -3.75477755e-02,  3.98640845e-02,\n",
       "       -2.24060786e-02, -4.43955162e-03,  6.74231991e-03, -1.55035307e-02,\n",
       "        1.43268461e-02,  1.23224478e-02,  2.87938041e-02, -2.76876261e-02,\n",
       "        3.74916650e-02,  3.42412572e-02, -2.07726692e-03,  4.17727616e-02,\n",
       "        1.32879103e-03,  3.21051173e-02,  8.10753088e-03,  2.73261392e-02,\n",
       "       -4.19829115e-02,  5.61582705e-03,  5.35485631e-02,  5.46234865e-02,\n",
       "        4.01532045e-04, -1.80144781e-02,  8.14288325e-02, -4.57135462e-02,\n",
       "       -7.25159456e-02, -2.49767408e-02, -3.27936129e-02,  3.78618633e-02,\n",
       "        4.77388881e-02,  6.42667583e-02,  3.14365590e-02,  5.96847036e-04,\n",
       "       -6.88568148e-03,  3.18975676e-02, -1.15372725e-02,  8.46703150e-02,\n",
       "       -1.31433195e-02,  3.75160329e-02,  9.42686084e-02,  1.32277667e-02,\n",
       "       -2.75037913e-02, -1.69821102e-02, -1.61555880e-01,  3.12724723e-02,\n",
       "        9.47946636e-03, -8.94985639e-03,  6.00415873e-02, -2.38337918e-02,\n",
       "        1.80546113e-02,  2.12770757e-03,  9.80290682e-02, -2.51138883e-02,\n",
       "       -1.57323712e-03,  1.75305889e-02, -9.33995924e-02, -4.73933425e-02,\n",
       "        3.30954480e-02,  2.82470847e-02, -2.58403574e-03,  6.03308912e-02,\n",
       "       -3.58117500e-02, -2.68791893e-02,  2.75340204e-02,  2.48081946e-02,\n",
       "        9.80797330e-03,  8.23216366e-02,  8.94555687e-02,  6.10974540e-02,\n",
       "        1.33853530e-02,  2.04466612e-02, -2.14393744e-02, -3.01447800e-02,\n",
       "       -3.89099100e-02,  4.08158260e-02,  3.49410891e-02, -4.51919796e-02,\n",
       "        9.89457972e-03, -4.28016418e-02, -3.16728225e-02,  6.41534192e-03,\n",
       "       -4.09549592e-02,  4.48735803e-03, -2.73857312e-02, -8.57219822e-03,\n",
       "        9.52991279e-03,  2.06895871e-02, -2.12184491e-02,  8.81651762e-02,\n",
       "        2.42586248e-03,  8.88399411e-03, -5.27875517e-02, -1.71606765e-02,\n",
       "       -4.17805766e-02, -2.35969929e-02,  7.91712153e-02, -4.18844263e-02,\n",
       "        2.16177546e-02,  6.46191322e-02,  2.60230788e-02,  7.74920047e-02,\n",
       "        4.62369733e-02, -2.87309214e-02,  1.08917424e-01, -7.71828617e-03,\n",
       "        5.39491496e-03,  4.85254228e-02,  1.00843012e-01, -7.36252790e-02,\n",
       "        6.83418897e-02,  2.20583727e-02, -2.47102504e-02, -2.49939971e-02,\n",
       "        8.64315281e-03,  3.40006494e-02,  2.95960130e-02, -5.06135238e-02,\n",
       "       -6.67984933e-02, -6.45947993e-02, -1.09210695e-01, -8.51626291e-03,\n",
       "       -7.13273752e-02, -9.45768207e-02, -3.04370237e-02, -3.21379614e-02,\n",
       "       -5.03665358e-02,  1.23176977e-01, -1.21233790e-01, -4.05825892e-02,\n",
       "       -9.40182706e-02, -8.29293445e-02,  1.23181306e-02, -4.84763222e-02,\n",
       "        6.36539838e-02,  1.40051089e-01,  1.66162302e-01, -1.29725804e-01,\n",
       "        6.71198098e-02,  8.81930490e-02,  5.88531544e-02, -1.02895992e-02,\n",
       "        1.26420287e-01,  5.98714991e-02, -3.45367578e-02, -9.31125134e-03,\n",
       "       -7.06370407e-02,  1.79564389e-02, -6.40800409e-02,  9.74363908e-02,\n",
       "        6.84789804e-02,  5.68753158e-02,  4.98889868e-02, -1.21891407e-01,\n",
       "       -2.40530595e-02,  1.06408373e-02,  3.44199495e-02,  9.58868948e-02,\n",
       "       -5.69820404e-04,  1.25350414e-02, -5.44063343e-02, -2.19165186e-02,\n",
       "        9.75971818e-02,  7.53513680e-02, -3.05399454e-03,  3.63902152e-02,\n",
       "        8.66798684e-02,  1.77751233e-01,  3.88376253e-02,  3.09185634e-02,\n",
       "       -8.23143659e-02, -2.35778872e-02, -6.52315859e-02, -6.20115271e-02,\n",
       "        1.02264592e-01,  6.49566706e-02,  9.30391898e-02,  2.01288004e-02,\n",
       "       -7.22829842e-03, -2.62971570e-02,  3.28909925e-02,  2.68631514e-03,\n",
       "       -5.23995869e-02,  2.14243596e-02, -1.03449031e-01,  7.53464351e-02,\n",
       "        1.54494096e-02,  2.21226240e-02, -1.15322657e-01, -6.56503501e-03,\n",
       "       -2.21701823e-02, -9.36133290e-02,  5.09167202e-02, -2.59042505e-02,\n",
       "       -5.51627344e-03,  5.39366230e-02, -2.05264700e-02,  1.49972238e-01,\n",
       "       -5.88053577e-02, -1.97528993e-01,  1.42103769e-02, -3.93701028e-02,\n",
       "       -9.52921199e-02,  5.94379902e-02,  1.07578508e-02, -2.95839235e-02,\n",
       "        3.45255146e-02,  1.06464786e-02,  5.02363549e-02,  1.43382383e-01,\n",
       "       -6.37137021e-04, -5.77132491e-02, -1.89459417e-02, -1.10909635e-01,\n",
       "       -7.82798299e-02,  1.42989634e-02, -3.40860114e-02, -1.13909319e-03,\n",
       "       -7.58527095e-02, -6.39944449e-02,  2.91141110e-02, -1.15746775e-01,\n",
       "       -1.29326115e-01, -4.93836626e-02,  9.10133682e-02,  2.38170276e-02,\n",
       "       -5.34729399e-02,  1.14862894e-01, -1.15116809e-01,  4.22188851e-02,\n",
       "        5.55943264e-02,  2.97453688e-02,  6.31383084e-02, -5.28482549e-02,\n",
       "       -5.49308155e-03,  5.34638685e-02,  6.74636692e-02, -1.48076151e-02,\n",
       "        7.00094224e-02,  5.60950588e-02,  6.01539724e-02,  9.65699567e-02,\n",
       "       -3.95772301e-02,  3.97419889e-02, -1.49939630e-02,  1.24153639e-01,\n",
       "        4.11416750e-02,  2.56561443e-02,  4.28019287e-03,  5.27605668e-02,\n",
       "        4.56659287e-02,  4.56110858e-02,  4.51750696e-02, -1.09024619e-01,\n",
       "        6.91046428e-02,  1.76990311e-02, -7.26490840e-03,  4.75394763e-02,\n",
       "        2.53811873e-02, -8.15647992e-02, -2.89207585e-03,  4.64804754e-02,\n",
       "        1.34093113e-02,  3.99874201e-02,  2.57752639e-02,  9.50601026e-03,\n",
       "        9.01583567e-02,  1.29120150e-01,  4.35541233e-02, -1.62043220e-02,\n",
       "        3.95217560e-02,  1.79692391e-02,  5.44337127e-02, -1.51995227e-01,\n",
       "       -3.69209427e-02, -8.00698139e-03, -3.07926374e-02,  9.27929804e-03,\n",
       "       -7.52566153e-02, -3.23717296e-02, -1.83762750e-02,  6.79327404e-02,\n",
       "       -2.60175304e-02,  1.85273206e-02, -7.66289558e-02, -9.71297902e-02,\n",
       "        5.86138379e-02,  1.65277854e-01, -3.20716761e-03, -1.12590481e-02,\n",
       "        7.54578695e-02,  5.67625801e-02, -2.85188379e-02,  7.24847235e-02,\n",
       "        5.16432434e-02,  2.51991674e-03, -1.34957491e-02,  1.02361502e-01,\n",
       "       -9.83861756e-02, -9.01961531e-03, -1.16758745e-01,  2.51469804e-02,\n",
       "        5.32636609e-02, -8.22054215e-02,  9.63534592e-03, -7.52529070e-02,\n",
       "        5.47925286e-02,  4.36263829e-03,  8.46968893e-02, -3.00409183e-02,\n",
       "       -6.57226555e-02,  2.82372477e-02, -1.94501008e-02, -2.21137443e-02,\n",
       "        6.17221478e-02, -6.24583928e-02, -3.71199399e-02,  2.07735472e-02,\n",
       "       -2.98569549e-02, -2.18227068e-02,  6.96843186e-02, -3.56576381e-02,\n",
       "        3.28383200e-02, -1.07337908e-01, -3.52317613e-02, -2.30280435e-02,\n",
       "        4.65921564e-02,  2.98238158e-02,  5.69234967e-02, -2.14587953e-03,\n",
       "        3.38576639e-02,  6.76935304e-02,  4.07898641e-02, -1.16421212e-01,\n",
       "       -1.92557209e-02, -3.46289385e-02,  3.36013410e-02, -1.19404932e-01,\n",
       "        1.07554663e-02, -4.79435608e-02, -2.47956507e-02, -6.72554959e-02,\n",
       "        4.92865816e-02,  4.16808173e-02,  9.46630560e-02,  3.92123563e-02,\n",
       "        4.10719497e-02, -1.51587238e-02, -3.74199822e-02, -4.89362203e-02,\n",
       "       -5.17324697e-02,  2.54854121e-02, -2.04643037e-02, -3.24226987e-02,\n",
       "       -6.67030692e-02,  2.21361645e-02,  9.15614441e-02,  4.36400576e-02,\n",
       "        7.17963197e-02,  4.25367382e-02,  6.21173741e-02, -1.12776643e-01,\n",
       "        1.40173739e-01,  4.55089730e-02, -6.97807450e-02, -2.83095727e-02,\n",
       "        2.54051718e-02, -1.86109746e-03,  1.17611752e-01,  1.12415145e-02,\n",
       "       -1.01543548e-01,  7.81390572e-02,  1.43176300e-02,  2.56580769e-02,\n",
       "        9.19192935e-02,  8.25062096e-02, -1.33016781e-01, -1.89337979e-02,\n",
       "       -1.73631326e-02, -1.30129710e-02,  3.18326036e-02, -6.27945350e-02,\n",
       "       -1.41391117e-02, -1.15845530e-01, -1.11175810e-01, -2.48353900e-02,\n",
       "        7.17935406e-02,  9.61074267e-04,  9.41860066e-03, -2.35004351e-03,\n",
       "        1.24092933e-02,  7.87730037e-02, -1.52268859e-01,  8.92581296e-02,\n",
       "        1.10955756e-01,  7.65680999e-02,  3.70932613e-02, -7.75672812e-02,\n",
       "        3.63725258e-02,  2.17518380e-03,  4.36513627e-02, -3.08752962e-02,\n",
       "        1.32219934e-02, -3.82727432e-02,  5.46950606e-02,  1.86418966e-02,\n",
       "       -3.99902780e-02, -3.65872364e-02,  6.63665987e-02,  2.65061862e-02,\n",
       "       -3.35573191e-02,  7.64427740e-03, -2.46474533e-02, -4.24438646e-02,\n",
       "        3.01261517e-03,  9.52040817e-02,  1.61082019e-01, -1.18681532e-01,\n",
       "        1.71639740e-01, -6.56060434e-03, -8.46850798e-02,  1.50000809e-01,\n",
       "        1.63637898e-01, -4.28172482e-02,  3.38106707e-02,  5.93316951e-02,\n",
       "        2.40945613e-03,  3.66972560e-02, -8.44157697e-02,  1.78174553e-02,\n",
       "        1.09332872e-01, -1.46965689e-01,  3.46744965e-02,  2.01204656e-03,\n",
       "        3.54991714e-02, -8.64509940e-02,  8.37152255e-02, -1.50352009e-01,\n",
       "       -5.64283569e-02, -8.02659494e-02,  1.31661599e-01, -1.26885680e-01,\n",
       "       -8.95493288e-02,  1.15326210e-02, -6.11495162e-02, -1.01436708e-01,\n",
       "       -4.93592796e-02,  1.16628831e-01,  6.05129240e-02, -9.21696492e-03,\n",
       "        7.36800703e-02, -7.30471679e-02,  6.09983942e-02,  5.75309457e-02,\n",
       "        1.61514309e-02,  3.48946037e-02,  5.10198477e-02, -1.19103623e-01,\n",
       "       -8.58013230e-03, -6.26436235e-02, -1.27188120e-02, -1.88536225e-01,\n",
       "        4.90395139e-02,  7.90849592e-02, -3.04736907e-02, -7.48084215e-02,\n",
       "        4.90960905e-02, -7.27413188e-02,  9.72863741e-02,  8.34411931e-02,\n",
       "       -8.95885945e-03, -1.43224019e-01,  1.40292885e-02,  7.20026229e-02,\n",
       "        4.14471599e-03,  3.57416963e-02,  2.78771940e-02, -5.62862578e-04,\n",
       "       -1.11459437e-01, -5.38940243e-02, -2.97100440e-02, -1.52794649e-02,\n",
       "       -1.68508427e-02,  1.11593968e-01,  1.28697572e-01,  1.77625433e-01,\n",
       "        1.33674026e-01, -8.37594271e-05,  7.13618644e-02, -2.41113686e-02,\n",
       "        6.02161326e-02, -1.58038415e-02,  1.27789631e-01,  7.45896697e-03,\n",
       "        1.30363503e-01,  1.59326577e-01,  9.89630438e-02,  5.74722096e-02,\n",
       "        6.29856775e-03, -4.80129436e-02, -2.46187298e-02,  1.69644514e-01,\n",
       "        1.56158304e-01, -7.59417228e-03, -5.48383467e-02,  5.29334081e-02,\n",
       "        7.50897378e-03, -4.47169743e-02, -5.74300945e-02, -9.21118081e-02,\n",
       "        3.33883259e-02, -2.44894989e-02, -1.68223280e-01,  4.28268850e-02,\n",
       "        2.17384583e-01, -8.64543325e-03,  5.55709034e-02, -7.49149265e-02,\n",
       "        2.92826317e-02,  2.18108849e-02,  2.53450423e-02, -1.05878982e-01,\n",
       "        8.34188282e-02,  1.34542859e-01, -8.52712795e-02, -3.89487701e-02,\n",
       "       -1.87654287e-02, -1.29846068e-01,  8.29177737e-02, -1.89301246e-01,\n",
       "       -1.23445633e-01, -1.13175437e-02,  1.07495579e-01, -1.75554411e-02,\n",
       "       -5.70548505e-02, -6.56476244e-03,  3.24729919e-02,  7.72670556e-02,\n",
       "       -2.09212806e-02,  1.27764699e-01, -7.67433211e-02, -1.54570347e-01,\n",
       "        1.06785131e-01,  9.88918640e-02, -3.07575786e-02,  1.08878769e-02,\n",
       "        4.77521196e-02, -2.25309320e-02,  1.78331570e-02,  3.91263351e-02,\n",
       "        2.00869180e-03, -2.92415023e-03, -7.10889176e-03,  4.13907208e-02,\n",
       "       -1.39667520e-01, -2.90587626e-02, -1.08105265e-01,  5.35759486e-02,\n",
       "       -9.86263901e-03, -1.40551570e-01,  8.77723828e-02, -4.22971182e-02,\n",
       "        1.47312265e-02,  1.81663355e-02,  1.93376380e-01, -4.25742984e-02,\n",
       "        1.27376206e-02,  8.53176564e-02, -1.57741932e-02, -4.09154750e-02,\n",
       "        4.10022736e-02, -5.68275757e-02, -6.77924983e-02,  4.23576385e-02,\n",
       "       -3.00226551e-02, -7.68317111e-02, -6.29976660e-02, -8.95269729e-02,\n",
       "       -5.17309986e-02, -2.86848567e-02, -9.72090915e-02,  3.07403058e-03,\n",
       "        1.01566359e-02, -5.70483927e-02,  1.63170569e-02,  4.92447533e-02,\n",
       "        2.62090147e-02,  6.38085384e-02,  9.04048219e-02, -1.07634026e-01,\n",
       "       -7.33059868e-02,  7.39656359e-02, -4.18471731e-04, -7.42821429e-02,\n",
       "        1.38377408e-02, -2.04404311e-02, -1.07581657e-01, -4.71348330e-02,\n",
       "       -6.49133816e-02,  5.69342963e-02,  9.12588239e-02,  8.73777881e-02,\n",
       "        5.95775768e-02, -5.25882974e-02, -1.27578193e-02, -8.15898377e-02,\n",
       "        1.73715129e-02,  1.57553069e-02,  4.41047047e-02, -5.72310299e-02,\n",
       "       -8.43045339e-03,  6.85427189e-02,  7.01251850e-02,  1.17437735e-01])"
      ]
     },
     "execution_count": 661,
     "metadata": {},
     "output_type": "execute_result"
    }
   ],
   "source": [
    "lista_doc_pos[0].features"
   ]
  },
  {
   "cell_type": "code",
   "execution_count": 662,
   "id": "095b3289",
   "metadata": {},
   "outputs": [
    {
     "name": "stdout",
     "output_type": "stream",
     "text": [
      "              precision    recall  f1-score   support\n",
      "\n",
      "     colombi       0.47      0.63      0.54       100\n",
      "       neera       0.49      0.31      0.38       100\n",
      "       serao       0.53      0.55      0.54       100\n",
      "\n",
      "    accuracy                           0.50       300\n",
      "   macro avg       0.50      0.50      0.49       300\n",
      "weighted avg       0.50      0.50      0.49       300\n",
      "\n"
     ]
    }
   ],
   "source": [
    "train_features_pos, train_labels_pos, test_features_pos, test_labels_pos, val_features_pos, val_labels_pos = train_test_val_split(lista_doc_pos)\n",
    "\n",
    "X_train_pos = np.array(train_features_pos)\n",
    "y_train_pos = np.array(train_labels_pos)\n",
    "X_test_pos = np.array(test_features_pos)\n",
    "y_test_pos = np.array(test_labels_pos)\n",
    "X_val_pos = np.array(val_features_pos)\n",
    "y_val_pos = np.array(val_labels_pos)\n",
    "\n",
    "scaled_X_train_pos = scaler.fit_transform(X_train_pos)\n",
    "svc.fit(scaled_X_train_pos, y_train_pos)\n",
    "scaled_X_val_pos = scaler.transform(X_val_pos)\n",
    "\n",
    "val_predictions_pos = svc.predict(scaled_X_val_pos)\n",
    "print(classification_report(y_val_pos, val_predictions_pos,  zero_division=0))"
   ]
  },
  {
   "cell_type": "markdown",
   "id": "898b7c8e",
   "metadata": {},
   "source": [
    "### Quarto tentativo: somma dei word embeddings di ogni documento"
   ]
  },
  {
   "cell_type": "code",
   "execution_count": 663,
   "id": "0b6cc509",
   "metadata": {},
   "outputs": [],
   "source": [
    "# Creo una copia della lista dei documenti per utlizzarla nel primo tentativo\n",
    "\n",
    "lista_doc_sum = lista_documenti.copy()"
   ]
  },
  {
   "cell_type": "code",
   "execution_count": 664,
   "id": "e3487dc9",
   "metadata": {},
   "outputs": [],
   "source": [
    "def compute_embeddings_sum(document_embeddings):\n",
    "    sum_array = np.sum(document_embeddings, axis=0)\n",
    "    return sum_array"
   ]
  },
  {
   "cell_type": "code",
   "execution_count": 665,
   "id": "6c80b465",
   "metadata": {},
   "outputs": [],
   "source": [
    "# Funziona che calcola la somma dei word embeddings (se non ci sono embeddings, crea una lista di zeri)\n",
    "\n",
    "def compute_all_embeddings_sum(document_tokens):\n",
    "    document_embeddings = []\n",
    "    \n",
    "    for token in document_tokens:\n",
    "        word = token.word\n",
    "        if word in embeddings:\n",
    "            document_embeddings.append(embeddings[word])\n",
    "    \n",
    "    if len(document_embeddings) == 0:\n",
    "        sum_document_embeddings = np.zeros(embeddings_dim)\n",
    "    else:\n",
    "        sum_document_embeddings = compute_embeddings_sum(document_embeddings)\n",
    "    return sum_document_embeddings"
   ]
  },
  {
   "cell_type": "code",
   "execution_count": 666,
   "id": "c7d37668",
   "metadata": {},
   "outputs": [],
   "source": [
    "def extract_features_sum(documents):\n",
    "    for document in documents:\n",
    "        # document_embeddings = compute_all_embeddings_mean(document.tokens)\n",
    "        document_embeddings = compute_all_embeddings_sum(document.tokens)\n",
    "        # document_embeddings = compute_filtered_embeddings_sep_means(document.tokens)\n",
    "        document.features = document_embeddings"
   ]
  },
  {
   "cell_type": "code",
   "execution_count": 667,
   "id": "1bbec1f5",
   "metadata": {},
   "outputs": [],
   "source": [
    "extract_features_sum(lista_doc_sum)"
   ]
  },
  {
   "cell_type": "code",
   "execution_count": 668,
   "id": "d12c19f8",
   "metadata": {},
   "outputs": [
    {
     "data": {
      "text/plain": [
       "array([ 5.35068257,  0.08296005,  3.88126274, -2.87356689,  2.597606  ,\n",
       "        2.0566139 ,  3.47199797, -0.54478419,  4.56863032,  3.42343961,\n",
       "        3.23139657,  2.40153089, -0.8254411 ,  1.06079835, -2.06394743,\n",
       "        3.75001697,  2.06051255,  2.32143674, -3.29559844,  0.56021674,\n",
       "       -0.02614801,  0.20555885,  1.68416373, -3.96361436, -0.06488435,\n",
       "       -2.18525967, -4.4420975 ,  0.66730187,  2.38894969, -1.83859732,\n",
       "       -0.85187713, -0.66370081,  0.38191659,  2.58085225, -1.31697556,\n",
       "       -1.70384832,  5.11229163,  4.38403596, -0.01463126, -2.10919502,\n",
       "        0.60552652,  0.68443409,  0.99082693, -5.23786992, -3.492612  ,\n",
       "       -0.7093946 ,  2.85607143,  2.17892073, -1.35541158, -1.91121709,\n",
       "        2.65771163,  3.11202711, -1.59822521,  1.95719196, -2.03528916,\n",
       "       -2.30171129,  2.70907778,  4.66124874,  2.83267524, -1.5477871 ,\n",
       "        4.1330386 ,  0.80922955, -2.38342341,  3.95286592,  2.36582947,\n",
       "        1.20562296,  1.73738232,  3.34293502, -2.39733145, -1.30041223,\n",
       "       -6.73351662,  1.87905079,  1.11425948, -3.69828959,  3.18731867,\n",
       "       -2.14646417,  0.73850364,  0.66953836,  6.50282068, -3.38781664,\n",
       "        0.15392819,  0.291164  , -2.01808582, -3.81159846,  0.9132471 ,\n",
       "       -1.55836634, -1.48319991,  0.41366346, -2.13228012,  0.43213689,\n",
       "        1.02514838, -0.45856134,  1.29429774, -0.69801284,  0.87283743,\n",
       "        1.11905157,  0.7247613 , -0.07740035,  1.8593697 , -1.50772018,\n",
       "        0.23726792,  0.46588388,  2.20871537, -5.75380426,  0.37711291,\n",
       "        0.7602453 , -0.77992421, -3.03358764,  0.81092674, -0.74413367,\n",
       "        1.28343663,  0.6293217 ,  1.1200032 , -0.83148274,  1.16328725,\n",
       "        3.9937315 ,  2.22420886, -0.37935153, -1.68902538, -1.75122119,\n",
       "       -3.80866957, -0.55436147,  1.11216425, -2.35050386, -0.27554238,\n",
       "        4.2147604 ,  5.35871463,  4.21269172])"
      ]
     },
     "execution_count": 668,
     "metadata": {},
     "output_type": "execute_result"
    }
   ],
   "source": [
    "lista_doc_sum[0].features"
   ]
  },
  {
   "cell_type": "code",
   "execution_count": 669,
   "id": "f423fcc8",
   "metadata": {},
   "outputs": [
    {
     "name": "stdout",
     "output_type": "stream",
     "text": [
      "              precision    recall  f1-score   support\n",
      "\n",
      "     colombi       0.54      0.75      0.63       100\n",
      "       neera       0.80      0.48      0.60       100\n",
      "       serao       0.78      0.80      0.79       100\n",
      "\n",
      "    accuracy                           0.68       300\n",
      "   macro avg       0.71      0.68      0.67       300\n",
      "weighted avg       0.71      0.68      0.67       300\n",
      "\n"
     ]
    }
   ],
   "source": [
    "train_features_sum, train_labels_sum, test_features_sum, test_labels_sum, val_features_sum, val_labels_sum = train_test_val_split(lista_doc_sum)\n",
    "\n",
    "X_train_sum = np.array(train_features_sum)\n",
    "y_train_sum = np.array(train_labels_sum)\n",
    "X_test_sum = np.array(test_features_sum)\n",
    "y_test_sum = np.array(test_labels_sum)\n",
    "X_val_sum = np.array(val_features_sum)\n",
    "y_val_sum = np.array(val_labels_sum)\n",
    "\n",
    "#### Normalizzazione\n",
    "scaled_X_train_sum = scaler.fit_transform(X_train_sum)\n",
    "\n",
    "\n",
    "svc.fit(scaled_X_train_sum, y_train_sum)\n",
    "scaled_X_val_sum = scaler.transform(X_val_sum)\n",
    "\n",
    "val_predictions_sum = svc.predict(scaled_X_val_sum)\n",
    "print(classification_report(y_val_sum, val_predictions_sum,  zero_division=0))"
   ]
  },
  {
   "cell_type": "markdown",
   "id": "e778e049",
   "metadata": {},
   "source": [
    "### Quinto tentativo: massimo tra word embeddings di ogni documento"
   ]
  },
  {
   "cell_type": "code",
   "execution_count": 670,
   "id": "f8798a98",
   "metadata": {},
   "outputs": [],
   "source": [
    "# Creo una copia della lista dei documenti per utlizzarla nel primo tentativo\n",
    "\n",
    "lista_doc_max = lista_documenti.copy()"
   ]
  },
  {
   "cell_type": "code",
   "execution_count": 671,
   "id": "d4baa94d",
   "metadata": {},
   "outputs": [],
   "source": [
    "def compute_embeddings_max(document_embeddings):\n",
    "    max_array = np.max(document_embeddings, axis=0)\n",
    "    return max_array"
   ]
  },
  {
   "cell_type": "code",
   "execution_count": 672,
   "id": "65bac552",
   "metadata": {},
   "outputs": [],
   "source": [
    "def compute_all_embeddings_max(document_tokens):\n",
    "    document_embeddings = []\n",
    "    \n",
    "    for token in document_tokens:\n",
    "        word = token.word\n",
    "        if word in embeddings:\n",
    "            document_embeddings.append(embeddings[word])\n",
    "    \n",
    "    if len(document_embeddings) == 0:\n",
    "        max_document_embeddings = np.zeros(embeddings_dim)\n",
    "    else:\n",
    "        max_document_embeddings = compute_embeddings_max(document_embeddings)\n",
    "    return max_document_embeddings"
   ]
  },
  {
   "cell_type": "code",
   "execution_count": 673,
   "id": "30f0ab21",
   "metadata": {},
   "outputs": [],
   "source": [
    "def extract_features_max(documents):\n",
    "    for document in documents:\n",
    "        # document_embeddings = compute_all_embeddings_mean(document.tokens)\n",
    "        document_embeddings = compute_all_embeddings_max(document.tokens)\n",
    "        # document_embeddings = compute_filtered_embeddings_sep_means(document.tokens)\n",
    "        document.features = document_embeddings"
   ]
  },
  {
   "cell_type": "code",
   "execution_count": 674,
   "id": "e01e9235",
   "metadata": {},
   "outputs": [],
   "source": [
    "extract_features_max(lista_doc_max)"
   ]
  },
  {
   "cell_type": "code",
   "execution_count": 675,
   "id": "aa8739a3",
   "metadata": {},
   "outputs": [
    {
     "data": {
      "text/plain": [
       "array([0.2194932 , 0.16455022, 0.25028539, 0.11207189, 0.29876071,\n",
       "       0.21056846, 0.22631319, 0.17623533, 0.24528275, 0.24512233,\n",
       "       0.2406619 , 0.20498838, 0.19226122, 0.19729601, 0.14220884,\n",
       "       0.17726204, 0.1624223 , 0.20881094, 0.12470676, 0.22527134,\n",
       "       0.12318993, 0.16236156, 0.17019534, 0.12008691, 0.15603322,\n",
       "       0.14800465, 0.16138583, 0.17271875, 0.23185198, 0.18060364,\n",
       "       0.14731179, 0.22311062, 0.12581219, 0.21123742, 0.25551769,\n",
       "       0.1319356 , 0.18284498, 0.17387204, 0.14401692, 0.17640702,\n",
       "       0.16569209, 0.21529311, 0.19386524, 0.15185145, 0.09924591,\n",
       "       0.18395567, 0.22047348, 0.24909021, 0.14249203, 0.17470236,\n",
       "       0.24124061, 0.25463608, 0.15895164, 0.23484951, 0.15590839,\n",
       "       0.19618945, 0.15323924, 0.27616876, 0.2013783 , 0.15132014,\n",
       "       0.20857523, 0.15434836, 0.14171025, 0.23908579, 0.2031256 ,\n",
       "       0.27788273, 0.18163773, 0.21486041, 0.12398464, 0.13516752,\n",
       "       0.09769385, 0.15776469, 0.17562225, 0.13366885, 0.23492207,\n",
       "       0.06655041, 0.15195702, 0.17807184, 0.26966643, 0.11167143,\n",
       "       0.1708878 , 0.17365016, 0.14399214, 0.20821774, 0.16102238,\n",
       "       0.21193632, 0.16855152, 0.27169251, 0.17376876, 0.20065005,\n",
       "       0.18428011, 0.16439369, 0.19709799, 0.23053676, 0.2119164 ,\n",
       "       0.23443182, 0.19176815, 0.17669491, 0.17263485, 0.16471486,\n",
       "       0.1359417 , 0.18049268, 0.15609272, 0.12915793, 0.16778167,\n",
       "       0.10856907, 0.1583344 , 0.19766945, 0.13968086, 0.21732646,\n",
       "       0.21590891, 0.15933056, 0.23688447, 0.15924172, 0.23606279,\n",
       "       0.2252301 , 0.22975878, 0.15061362, 0.11867478, 0.13140227,\n",
       "       0.11920447, 0.13230014, 0.20303577, 0.10924294, 0.15384078,\n",
       "       0.252296  , 0.2807543 , 0.25998196])"
      ]
     },
     "execution_count": 675,
     "metadata": {},
     "output_type": "execute_result"
    }
   ],
   "source": [
    "lista_doc_max[0].features"
   ]
  },
  {
   "cell_type": "code",
   "execution_count": 676,
   "id": "0fa80ec2",
   "metadata": {},
   "outputs": [
    {
     "name": "stdout",
     "output_type": "stream",
     "text": [
      "              precision    recall  f1-score   support\n",
      "\n",
      "     colombi       0.42      0.53      0.47       100\n",
      "       neera       0.43      0.26      0.33       100\n",
      "       serao       0.44      0.50      0.47       100\n",
      "\n",
      "    accuracy                           0.43       300\n",
      "   macro avg       0.43      0.43      0.42       300\n",
      "weighted avg       0.43      0.43      0.42       300\n",
      "\n"
     ]
    }
   ],
   "source": [
    "train_features_max, train_labels_max, test_features_max, test_labels_max, val_features_max, val_labels_max = train_test_val_split(lista_doc_max)\n",
    "\n",
    "X_train_max = np.array(train_features_max)\n",
    "y_train_max = np.array(train_labels_max)\n",
    "X_test_max = np.array(test_features_max)\n",
    "y_test_max = np.array(test_labels_max)\n",
    "X_val_max = np.array(val_features_max)\n",
    "y_val_max = np.array(val_labels_max)\n",
    "\n",
    "#### Normalizzazione\n",
    "\n",
    "scaled_X_train_max = scaler.fit_transform(X_train_max)\n",
    "#### Classificazione\n",
    "\n",
    "svc.fit(scaled_X_train_max, y_train_max)\n",
    "\n",
    "scaled_X_val_max = scaler.transform(X_val_max)\n",
    "\n",
    "val_predictions_max = svc.predict(scaled_X_val_max)\n",
    "print(classification_report(y_val_max, val_predictions_max,  zero_division=0))"
   ]
  }
 ],
 "metadata": {
  "kernelspec": {
   "display_name": "base",
   "language": "python",
   "name": "python3"
  },
  "language_info": {
   "codemirror_mode": {
    "name": "ipython",
    "version": 3
   },
   "file_extension": ".py",
   "mimetype": "text/x-python",
   "name": "python",
   "nbconvert_exporter": "python",
   "pygments_lexer": "ipython3",
   "version": "3.12.2"
  }
 },
 "nbformat": 4,
 "nbformat_minor": 5
}
