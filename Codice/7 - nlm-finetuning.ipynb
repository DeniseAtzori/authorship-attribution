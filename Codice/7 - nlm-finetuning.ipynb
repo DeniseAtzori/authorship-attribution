{
 "cells": [
  {
   "cell_type": "markdown",
   "id": "4090429e",
   "metadata": {},
   "source": [
    "# Fine-tuning di un modello di linguaggio neurale (Neural Language Model)\n",
    "\n",
    "Selezionare un neural language model tra quelli trattati durante il corso e condurre un processo di fine-tuning per un totale di 6 epoche. Per questa fase, è richiesto di:\n",
    "\n",
    "- presentare le curve di loss relative al training e al validation set\n",
    "- riportare le prestazioni del modello sul validation set al termine di ciascuna epoca\n",
    "- valutare il modello sul test set al termine della sesta epoca."
   ]
  },
  {
   "cell_type": "code",
   "execution_count": 1,
   "id": "207e0a4b",
   "metadata": {},
   "outputs": [
    {
     "name": "stdout",
     "output_type": "stream",
     "text": [
      "Device in uso: mps\n"
     ]
    }
   ],
   "source": [
    "import torch\n",
    "\n",
    "device = torch.device(\"mps\" if torch.backends.mps.is_available() else \"cpu\")\n",
    "print(f\"Device in uso: {device}\")\n",
    "# verifico che l'MPS support sia in funzione (Metal Performance Shaders backend for GPU training acceleration on Mac: https://developer.apple.com/metal/pytorch/)\n",
    "# if torch.backends.mps.is_available():\n",
    "#     mps_device = torch.device(\"mps\")\n",
    "#     x = torch.ones(1, device=mps_device)\n",
    "#     print (x)\n",
    "# else:\n",
    "#     print (\"MPS device not found.\")"
   ]
  },
  {
   "cell_type": "code",
   "execution_count": 2,
   "id": "4c050bae",
   "metadata": {},
   "outputs": [],
   "source": [
    "#!pip install transformers\n",
    "#!pip install --upgrade datasets\n",
    "#!pip install evaluate\n",
    "#!pip install accelerate\n",
    "#!pip install hf_xet\n",
    "#pip install --upgrade transformers datasets\n",
    "#pip install --upgrade torch\n",
    "#pip install --upgrade torchvision"
   ]
  },
  {
   "cell_type": "code",
   "execution_count": 3,
   "id": "aeba8567",
   "metadata": {},
   "outputs": [],
   "source": [
    "import os\n",
    "\n",
    "import numpy as np\n",
    "import pandas as pd\n",
    "\n",
    "import datasets\n",
    "import evaluate\n",
    "import seaborn as sns\n",
    "\n",
    "# Libreria transformers per utilizzare i Transformer models\n",
    "from transformers import AutoTokenizer\n",
    "from transformers import AutoModelForSequenceClassification, TrainingArguments, Trainer\n",
    "\n",
    "# Librerie per le metriche\n",
    "from sklearn.metrics import classification_report\n",
    "from sklearn.metrics import ConfusionMatrixDisplay"
   ]
  },
  {
   "cell_type": "markdown",
   "id": "0742adee",
   "metadata": {},
   "source": [
    "## Caricamento dei dati"
   ]
  },
  {
   "cell_type": "code",
   "execution_count": 4,
   "id": "ea1e4195",
   "metadata": {},
   "outputs": [],
   "source": [
    "training_path = \"Dataset/Training/\"\n",
    "test_path = \"Dataset/Test/\"\n",
    "val_path = \"Dataset/Validation/\""
   ]
  },
  {
   "cell_type": "code",
   "execution_count": 5,
   "id": "31c97e40",
   "metadata": {},
   "outputs": [],
   "source": [
    "# funzione di estrazione delle informazioni dei file\n",
    "def estrai_doc(path, lista_doc):\n",
    "    documents = os.listdir(path)\n",
    "\n",
    "    for document in documents:\n",
    "\n",
    "        # mi assicuro di prendere solo i file txt\n",
    "        if document.endswith(\".txt\"):\n",
    "            \n",
    "            data = open(path + document, 'r')\n",
    "            text = data.read()\n",
    "            # creo un dizionario che conterrà sentence, label (autrici) e id del documento\n",
    "            info_doc = {}\n",
    "            id_doc = (document.split('.')[0]).split(\"/\")[-1]\n",
    "            labels_doc = id_doc.split('_')[0]\n",
    "            info_doc[\"id_doc\"] = id_doc #utile per un'eventuale error analysis\n",
    "            info_doc[\"label\"] = labels_doc\n",
    "            info_doc[\"sentence\"] = text\n",
    "\n",
    "            # appendo le informazioni estratte nel dizionario\n",
    "            lista_doc.append(info_doc)\n",
    "    \n",
    "    return lista_doc"
   ]
  },
  {
   "cell_type": "code",
   "execution_count": 6,
   "id": "63a01d05",
   "metadata": {},
   "outputs": [],
   "source": [
    "# Estraggo i documenti e loro informazioni, creo le liste per le analisi successive\n",
    "\n",
    "train_data = []\n",
    "test_data = []\n",
    "val_data = []\n",
    "\n",
    "train_data= estrai_doc(training_path, train_data)\n",
    "test_data = estrai_doc(test_path, test_data)\n",
    "val_data = estrai_doc(val_path, val_data)"
   ]
  },
  {
   "cell_type": "code",
   "execution_count": 7,
   "id": "f4ce0560",
   "metadata": {},
   "outputs": [
    {
     "data": {
      "text/plain": [
       "{'id_doc': 'serao_54_training',\n",
       " 'label': 'serao',\n",
       " 'sentence': \"Anzi, il nostro amore era senza fatti. Ci vedevamo troppo raramente, perchè le due esistenze si unissero nella fusione degli avvenimenti quotidiani. Parlavamo di amore, pianamente, soavemente, anzi con quella cautela delle persone che molto soffrono, che molto temono di soffrire: e vi era in ogni suo sguardo tanta effusione spirituale: vi era nelle sue mani che tenevano le mie quasi senza stringerle, tanto fluido di affetto: vi era nella sua voce tale onda di amore; che io mi scordava tutto il passato, che io non aveva più paura dell'avvenire, e mi sentivo accanto a Giustino Morelli assolutamente felice.\"}"
      ]
     },
     "execution_count": 7,
     "metadata": {},
     "output_type": "execute_result"
    }
   ],
   "source": [
    "train_data[0]"
   ]
  },
  {
   "cell_type": "code",
   "execution_count": 8,
   "id": "0f652bb6",
   "metadata": {},
   "outputs": [
    {
     "name": "stdout",
     "output_type": "stream",
     "text": [
      "3000\n",
      "300\n",
      "300\n"
     ]
    }
   ],
   "source": [
    "print(len(train_data))\n",
    "print(len(test_data))\n",
    "print(len(val_data))\n"
   ]
  },
  {
   "cell_type": "code",
   "execution_count": 9,
   "id": "688b20be",
   "metadata": {},
   "outputs": [],
   "source": [
    "# Conversione da lista di dizionari a dataset\n",
    "train = datasets.Dataset.from_pandas(pd.DataFrame(data=train_data))\n",
    "test = datasets.Dataset.from_pandas(pd.DataFrame(data=test_data))\n",
    "val = datasets.Dataset.from_pandas(pd.DataFrame(data=val_data))"
   ]
  },
  {
   "cell_type": "code",
   "execution_count": 10,
   "id": "2e4e4cd7",
   "metadata": {},
   "outputs": [
    {
     "name": "stdout",
     "output_type": "stream",
     "text": [
      "Dataset({\n",
      "    features: ['id_doc', 'label', 'sentence'],\n",
      "    num_rows: 3000\n",
      "})\n",
      "\n",
      "Esempio di testo: Oh! senza di essa nulla avrei compreso della creazione che mi stava innanzi, ch’ella mi spiegava con quella sua anima aperta, calda, amante, spargendo su tutto la luce, mettendo in tutto la vita. L’istruzione insensibile che ricevevo non era una lezione, era l’attività stessa del vivere e del pensare che andavo compiendo sotto i suoi occhi.\n",
      "\n",
      "Esempio di label: neera\n",
      "\n",
      "Esempio di id: neera_121_training\n",
      "\n",
      "Dimensione dei training, development and test sets:\n",
      "Train: (3000, 3)\n",
      "Dev: (300, 3)\n",
      "Test: (300, 3)\n"
     ]
    }
   ],
   "source": [
    "# Stampo 'train' per vedere come è formattato\n",
    "print(train)\n",
    "print()\n",
    "print(\"Esempio di testo:\", train['sentence'][2])\n",
    "print()\n",
    "print(\"Esempio di label:\", train['label'][2])\n",
    "print()\n",
    "print(\"Esempio di id:\", train['id_doc'][2])\n",
    "print()\n",
    "\n",
    "# Shape dei dati di train, dev e test\n",
    "print(\"Dimensione dei training, development and test sets:\")\n",
    "print(\"Train:\", train.shape)\n",
    "print(\"Dev:\", val.shape)\n",
    "print(\"Test:\", test.shape)"
   ]
  },
  {
   "cell_type": "markdown",
   "id": "7eb29c3c",
   "metadata": {},
   "source": [
    "## Caricamento del modello"
   ]
  },
  {
   "cell_type": "markdown",
   "id": "d9537ed0",
   "metadata": {},
   "source": [
    "Modello scelto: encoder -> Bert base italian cased\n",
    "\n",
    "(base: dimensione del modello -> 110M di parametri; cased: il testo non viene messo tutto in lowercase e non toglie gli accenti)\n"
   ]
  },
  {
   "cell_type": "code",
   "execution_count": 11,
   "id": "4600d6f2",
   "metadata": {},
   "outputs": [],
   "source": [
    "# numero labels = 3 (le tre autrici)\n",
    "labels = [\"colombi\", \"neera\", \"serao\"]\n",
    "\n",
    "# Creo un dizionario di mapping fra le labels come stringhe e le label numeriche\n",
    "str_to_int = {label: num for num, label in enumerate(labels)}"
   ]
  },
  {
   "cell_type": "code",
   "execution_count": 12,
   "id": "b08ab22b",
   "metadata": {},
   "outputs": [
    {
     "name": "stderr",
     "output_type": "stream",
     "text": [
      "Some weights of BertForSequenceClassification were not initialized from the model checkpoint at dbmdz/bert-base-italian-cased and are newly initialized: ['classifier.bias', 'classifier.weight']\n",
      "You should probably TRAIN this model on a down-stream task to be able to use it for predictions and inference.\n"
     ]
    }
   ],
   "source": [
    "# Seleziono il modello\n",
    "model_name = 'dbmdz/bert-base-italian-cased'\n",
    "\n",
    "# Carico il modello per la classificazione\n",
    "model = AutoModelForSequenceClassification.from_pretrained(model_name, num_labels=len(labels))\n",
    "# Lo sposto sulla GPU\n",
    "model.to(device)\n",
    "\n",
    "# Carico il tokenizzatore\n",
    "tokenizer = AutoTokenizer.from_pretrained(model_name)"
   ]
  },
  {
   "cell_type": "markdown",
   "id": "e7cbb80c",
   "metadata": {},
   "source": [
    "## Preprocessing dei dati"
   ]
  },
  {
   "cell_type": "markdown",
   "id": "25da7656",
   "metadata": {},
   "source": [
    "Tokenizzo i documenti e converto le label in valori numerici\n",
    "\n",
    "Imposto \"max_length = 512\" (sequenza di addestramento di Bert) e \"truncation=True\", assumendo che, anche divisi in subwords, i miei paragrafi dovrebbero essere meno lunghi. Se superano la max_length, vengono troncati."
   ]
  },
  {
   "cell_type": "code",
   "execution_count": 13,
   "id": "e307ab61",
   "metadata": {},
   "outputs": [
    {
     "data": {
      "text/plain": [
       "{'input_ids': [102, 11781, 1307, 162, 1149, 3711, 529, 853, 3437, 697, 654, 19624, 185, 1740, 14726, 1307, 6303, 199, 538, 3903, 30880, 516, 223, 1290, 1873, 403, 9225, 483, 14223, 21502, 697, 7628, 2170, 120, 3711, 1307, 27615, 255, 1307, 245, 3574, 255, 1307, 8328, 153, 899, 19157, 324, 1022, 158, 617, 23863, 1307, 158, 617, 16806, 169, 120, 16343, 1587, 126, 320, 529, 139, 818, 415, 8363, 11572, 797, 3055, 7044, 1587, 320, 529, 841, 1373, 1313, 158, 21166, 169, 199, 1388, 1937, 853, 10073, 1704, 125, 1307, 1609, 22228, 120, 16367, 1587, 320, 529, 403, 497, 2954, 1251, 9648, 120, 3711, 5193, 158, 642, 318, 5124, 208, 187, 564, 162, 2376, 1307, 158, 642, 212, 1156, 353, 3143, 298, 1553, 13794, 1307, 126, 318, 17455, 6481, 111, 10252, 3090, 11017, 1788, 5446, 3561, 697, 103], 'token_type_ids': [0, 0, 0, 0, 0, 0, 0, 0, 0, 0, 0, 0, 0, 0, 0, 0, 0, 0, 0, 0, 0, 0, 0, 0, 0, 0, 0, 0, 0, 0, 0, 0, 0, 0, 0, 0, 0, 0, 0, 0, 0, 0, 0, 0, 0, 0, 0, 0, 0, 0, 0, 0, 0, 0, 0, 0, 0, 0, 0, 0, 0, 0, 0, 0, 0, 0, 0, 0, 0, 0, 0, 0, 0, 0, 0, 0, 0, 0, 0, 0, 0, 0, 0, 0, 0, 0, 0, 0, 0, 0, 0, 0, 0, 0, 0, 0, 0, 0, 0, 0, 0, 0, 0, 0, 0, 0, 0, 0, 0, 0, 0, 0, 0, 0, 0, 0, 0, 0, 0, 0, 0, 0, 0, 0, 0, 0, 0, 0, 0, 0, 0, 0, 0, 0, 0, 0], 'attention_mask': [1, 1, 1, 1, 1, 1, 1, 1, 1, 1, 1, 1, 1, 1, 1, 1, 1, 1, 1, 1, 1, 1, 1, 1, 1, 1, 1, 1, 1, 1, 1, 1, 1, 1, 1, 1, 1, 1, 1, 1, 1, 1, 1, 1, 1, 1, 1, 1, 1, 1, 1, 1, 1, 1, 1, 1, 1, 1, 1, 1, 1, 1, 1, 1, 1, 1, 1, 1, 1, 1, 1, 1, 1, 1, 1, 1, 1, 1, 1, 1, 1, 1, 1, 1, 1, 1, 1, 1, 1, 1, 1, 1, 1, 1, 1, 1, 1, 1, 1, 1, 1, 1, 1, 1, 1, 1, 1, 1, 1, 1, 1, 1, 1, 1, 1, 1, 1, 1, 1, 1, 1, 1, 1, 1, 1, 1, 1, 1, 1, 1, 1, 1, 1, 1, 1, 1]}"
      ]
     },
     "execution_count": 13,
     "metadata": {},
     "output_type": "execute_result"
    }
   ],
   "source": [
    "# Faccio una prova su uno dei documenti del dataset per vedere se funziona tutto\n",
    "tokenizer(train[0][\"sentence\"], padding=True, truncation=True, max_length=512)"
   ]
  },
  {
   "cell_type": "markdown",
   "id": "1ce2f60f",
   "metadata": {},
   "source": [
    "### Tokenizzazione dei dati"
   ]
  },
  {
   "cell_type": "code",
   "execution_count": 14,
   "id": "619f8e72",
   "metadata": {},
   "outputs": [
    {
     "data": {
      "application/vnd.jupyter.widget-view+json": {
       "model_id": "f01aeca825e645df8cd1fdd88b5c1741",
       "version_major": 2,
       "version_minor": 0
      },
      "text/plain": [
       "Map:   0%|          | 0/3000 [00:00<?, ? examples/s]"
      ]
     },
     "metadata": {},
     "output_type": "display_data"
    },
    {
     "name": "stderr",
     "output_type": "stream",
     "text": [
      "huggingface/tokenizers: The current process just got forked, after parallelism has already been used. Disabling parallelism to avoid deadlocks...\n",
      "To disable this warning, you can either:\n",
      "\t- Avoid using `tokenizers` before the fork if possible\n",
      "\t- Explicitly set the environment variable TOKENIZERS_PARALLELISM=(true | false)\n"
     ]
    },
    {
     "data": {
      "application/vnd.jupyter.widget-view+json": {
       "model_id": "bf3db4e230874f338661bb2b90f90e95",
       "version_major": 2,
       "version_minor": 0
      },
      "text/plain": [
       "Map:   0%|          | 0/300 [00:00<?, ? examples/s]"
      ]
     },
     "metadata": {},
     "output_type": "display_data"
    },
    {
     "data": {
      "application/vnd.jupyter.widget-view+json": {
       "model_id": "44ef86b09f4c49449fba0dde7c5c6570",
       "version_major": 2,
       "version_minor": 0
      },
      "text/plain": [
       "Map:   0%|          | 0/300 [00:00<?, ? examples/s]"
      ]
     },
     "metadata": {},
     "output_type": "display_data"
    }
   ],
   "source": [
    "# Funzione che applica la tokenizzazione ai dati di training, dev e test\n",
    "def tokenize(batch):\n",
    "    tokens = tokenizer(batch['sentence'], padding=True, truncation=True, max_length=512)\n",
    "    tokens['label'] = [str_to_int[label] for label in batch[\"label\"]]\n",
    "\n",
    "    return tokens\n",
    "\n",
    "train = train.map(tokenize, batched=True)\n",
    "val = val.map(tokenize, batched=True)\n",
    "test = test.map(tokenize, batched=True)\n",
    "\n",
    "train.set_format('numpy', columns=['input_ids', 'attention_mask', 'label'])\n",
    "val.set_format('numpy', columns=['input_ids', 'attention_mask', 'label'])\n",
    "test.set_format('numpy', columns=['input_ids', 'attention_mask', 'label'])"
   ]
  },
  {
   "cell_type": "markdown",
   "id": "affe9b67",
   "metadata": {},
   "source": [
    "## Addestramento del modello"
   ]
  },
  {
   "cell_type": "markdown",
   "id": "4ec44efd",
   "metadata": {},
   "source": [
    "Definisco Training arguments, metriche e trainer (oggetto della libreria Transformers che processa tutti gli argomenti e, tramite il metodo .train() fa partire l'addestramento.)"
   ]
  },
  {
   "cell_type": "markdown",
   "id": "30b84f8d",
   "metadata": {},
   "source": [
    "### Training arguments"
   ]
  },
  {
   "cell_type": "code",
   "execution_count": 15,
   "id": "89120688",
   "metadata": {},
   "outputs": [],
   "source": [
    "# Trainer\n",
    "\n",
    "num_epochs = 6\n",
    "\n",
    "training_args = TrainingArguments(\n",
    "    f\"{model_name}-finetuned\",\n",
    "    eval_strategy = \"epoch\",\n",
    "    logging_strategy=\"epoch\",\n",
    "    save_strategy = \"epoch\",\n",
    "    logging_steps=10,\n",
    "    learning_rate=2e-5,\n",
    "    per_device_train_batch_size=8,\n",
    "    per_device_eval_batch_size=8,\n",
    "    num_train_epochs=num_epochs,\n",
    "    weight_decay=0.01,\n",
    "    load_best_model_at_end=True,\n",
    ")"
   ]
  },
  {
   "cell_type": "markdown",
   "id": "818fa9fb",
   "metadata": {},
   "source": [
    "### Metrica\n",
    "\n",
    "Definiamo una funzione compute_metrics che prende input le predictions del modello e:\n",
    "\n",
    "- applica un argmax alle predictions;\n",
    "- calcola l'F-Score fra le predictions e le true labels."
   ]
  },
  {
   "cell_type": "code",
   "execution_count": 16,
   "id": "7191ca40",
   "metadata": {},
   "outputs": [],
   "source": [
    "def compute_metrics(eval_pred):\n",
    "  f1_metric = evaluate.load(\"f1\")\n",
    "  predictions, labels = eval_pred\n",
    "  predictions = np.argmax(predictions, axis=1)\n",
    "\n",
    "  return f1_metric.compute(predictions=predictions, references=labels, average=\"weighted\")"
   ]
  },
  {
   "cell_type": "markdown",
   "id": "7a701aa8",
   "metadata": {},
   "source": [
    "### Trainer\n",
    "\n",
    "A seguito della fase di training, con trainer.save_model() specifichiamo dover voler salvare il modello."
   ]
  },
  {
   "cell_type": "code",
   "execution_count": 17,
   "id": "3c369aec",
   "metadata": {},
   "outputs": [
    {
     "name": "stderr",
     "output_type": "stream",
     "text": [
      "/var/folders/dy/_vzc_bl12fv1jxcs5db4wmwh0000gn/T/ipykernel_3005/3485811681.py:1: FutureWarning: `tokenizer` is deprecated and will be removed in version 5.0.0 for `Trainer.__init__`. Use `processing_class` instead.\n",
      "  trainer = Trainer(\n",
      "/opt/anaconda3/lib/python3.12/site-packages/torch/utils/data/dataloader.py:683: UserWarning: 'pin_memory' argument is set as true but not supported on MPS now, then device pinned memory won't be used.\n",
      "  warnings.warn(warn_msg)\n"
     ]
    },
    {
     "data": {
      "text/html": [
       "\n",
       "    <div>\n",
       "      \n",
       "      <progress value='2250' max='2250' style='width:300px; height:20px; vertical-align: middle;'></progress>\n",
       "      [2250/2250 28:59, Epoch 6/6]\n",
       "    </div>\n",
       "    <table border=\"1\" class=\"dataframe\">\n",
       "  <thead>\n",
       " <tr style=\"text-align: left;\">\n",
       "      <th>Epoch</th>\n",
       "      <th>Training Loss</th>\n",
       "      <th>Validation Loss</th>\n",
       "      <th>F1</th>\n",
       "    </tr>\n",
       "  </thead>\n",
       "  <tbody>\n",
       "    <tr>\n",
       "      <td>1</td>\n",
       "      <td>0.500900</td>\n",
       "      <td>1.181714</td>\n",
       "      <td>0.688177</td>\n",
       "    </tr>\n",
       "    <tr>\n",
       "      <td>2</td>\n",
       "      <td>0.141400</td>\n",
       "      <td>1.512529</td>\n",
       "      <td>0.682161</td>\n",
       "    </tr>\n",
       "    <tr>\n",
       "      <td>3</td>\n",
       "      <td>0.042000</td>\n",
       "      <td>1.904724</td>\n",
       "      <td>0.665320</td>\n",
       "    </tr>\n",
       "    <tr>\n",
       "      <td>4</td>\n",
       "      <td>0.009900</td>\n",
       "      <td>1.525543</td>\n",
       "      <td>0.735531</td>\n",
       "    </tr>\n",
       "    <tr>\n",
       "      <td>5</td>\n",
       "      <td>0.001400</td>\n",
       "      <td>1.760435</td>\n",
       "      <td>0.715480</td>\n",
       "    </tr>\n",
       "    <tr>\n",
       "      <td>6</td>\n",
       "      <td>0.000300</td>\n",
       "      <td>1.713900</td>\n",
       "      <td>0.733776</td>\n",
       "    </tr>\n",
       "  </tbody>\n",
       "</table><p>"
      ],
      "text/plain": [
       "<IPython.core.display.HTML object>"
      ]
     },
     "metadata": {},
     "output_type": "display_data"
    },
    {
     "name": "stderr",
     "output_type": "stream",
     "text": [
      "/opt/anaconda3/lib/python3.12/site-packages/torch/utils/data/dataloader.py:683: UserWarning: 'pin_memory' argument is set as true but not supported on MPS now, then device pinned memory won't be used.\n",
      "  warnings.warn(warn_msg)\n",
      "/opt/anaconda3/lib/python3.12/site-packages/torch/utils/data/dataloader.py:683: UserWarning: 'pin_memory' argument is set as true but not supported on MPS now, then device pinned memory won't be used.\n",
      "  warnings.warn(warn_msg)\n",
      "/opt/anaconda3/lib/python3.12/site-packages/torch/utils/data/dataloader.py:683: UserWarning: 'pin_memory' argument is set as true but not supported on MPS now, then device pinned memory won't be used.\n",
      "  warnings.warn(warn_msg)\n",
      "/opt/anaconda3/lib/python3.12/site-packages/torch/utils/data/dataloader.py:683: UserWarning: 'pin_memory' argument is set as true but not supported on MPS now, then device pinned memory won't be used.\n",
      "  warnings.warn(warn_msg)\n",
      "/opt/anaconda3/lib/python3.12/site-packages/torch/utils/data/dataloader.py:683: UserWarning: 'pin_memory' argument is set as true but not supported on MPS now, then device pinned memory won't be used.\n",
      "  warnings.warn(warn_msg)\n"
     ]
    }
   ],
   "source": [
    "trainer = Trainer(\n",
    "    model,\n",
    "    training_args,\n",
    "    train_dataset=train,\n",
    "    eval_dataset=val,\n",
    "    tokenizer=tokenizer,\n",
    "    compute_metrics=compute_metrics\n",
    ")\n",
    "\n",
    "trainer.train()\n",
    "trainer.save_model(\"Bert\")"
   ]
  },
  {
   "cell_type": "markdown",
   "id": "b6335e9f",
   "metadata": {},
   "source": [
    "## Evaluation del modello"
   ]
  },
  {
   "cell_type": "markdown",
   "id": "29ffd00e",
   "metadata": {},
   "source": [
    "### Monitoraggio della loss"
   ]
  },
  {
   "cell_type": "code",
   "execution_count": 18,
   "id": "d9e15c63",
   "metadata": {},
   "outputs": [
    {
     "name": "stderr",
     "output_type": "stream",
     "text": [
      "/var/folders/dy/_vzc_bl12fv1jxcs5db4wmwh0000gn/T/ipykernel_3005/3703003683.py:12: FutureWarning: The behavior of DataFrame concatenation with empty or all-NA entries is deprecated. In a future version, this will no longer exclude empty or all-NA columns when determining the result dtypes. To retain the old behavior, exclude the relevant entries before the concat operation.\n",
      "  df = pd.concat([df, log_df], ignore_index=True)\n"
     ]
    },
    {
     "data": {
      "text/plain": [
       "<Axes: xlabel='Epoch', ylabel='Loss'>"
      ]
     },
     "execution_count": 18,
     "metadata": {},
     "output_type": "execute_result"
    },
    {
     "data": {
      "image/png": "[encoded data removed]",
      "text/plain": [
       "<Figure size 640x480 with 1 Axes>"
      ]
     },
     "metadata": {},
     "output_type": "display_data"
    }
   ],
   "source": [
    "log_history = trainer.state.log_history\n",
    "\n",
    "# Creo dataframe pandas per memorizzare le loss di training/evaluation e poi mostrare graficamente le curve\n",
    "df = pd.DataFrame(columns=[\"Epoch\", \"Loss\", \"Training/Validation\"])\n",
    "\n",
    "for log_data in log_history:\n",
    "  epoch = int(log_data[\"epoch\"])\n",
    "  if \"loss\" in log_data.keys():\n",
    "    loss = log_data[\"loss\"]\n",
    "\n",
    "    log_df = pd.DataFrame({\"Epoch\": [epoch], \"Loss\": [loss], \"Training/Validation\": [\"Training\"]})\n",
    "    df = pd.concat([df, log_df], ignore_index=True)\n",
    "  if \"eval_loss\" in log_data.keys():\n",
    "    loss = log_data[\"eval_loss\"]\n",
    "    log_df = pd.DataFrame({\"Epoch\": [epoch], \"Loss\": [loss], \"Training/Validation\": [\"Validation\"]})\n",
    "    df = pd.concat([df, log_df], ignore_index=True)\n",
    "\n",
    "# Lineplot della loss\n",
    "sns.lineplot(data=df, x=\"Epoch\", y=\"Loss\", hue=\"Training/Validation\")"
   ]
  },
  {
   "cell_type": "markdown",
   "id": "953eeb99",
   "metadata": {},
   "source": [
    "## Calcolo performance sul test set\n",
    "\n",
    "Applicando il metodo *.predict()* sul nostro test set, otteniamo come output le prediction del modello, assieme alle metriche di valutazione (e.g. weighted F1)"
   ]
  },
  {
   "cell_type": "code",
   "execution_count": 19,
   "id": "e50e7178",
   "metadata": {},
   "outputs": [
    {
     "name": "stderr",
     "output_type": "stream",
     "text": [
      "/opt/anaconda3/lib/python3.12/site-packages/torch/utils/data/dataloader.py:683: UserWarning: 'pin_memory' argument is set as true but not supported on MPS now, then device pinned memory won't be used.\n",
      "  warnings.warn(warn_msg)\n"
     ]
    },
    {
     "data": {
      "text/html": [],
      "text/plain": [
       "<IPython.core.display.HTML object>"
      ]
     },
     "metadata": {},
     "output_type": "display_data"
    },
    {
     "name": "stdout",
     "output_type": "stream",
     "text": [
      "PredictionOutput(predictions=array([[-1.02197504e+00, -2.93828821e+00,  3.79116035e+00],\n",
      "       [ 3.01446366e+00, -2.61026001e+00, -7.19704330e-01],\n",
      "       [-1.70013070e+00, -1.22713697e+00,  3.18389893e+00],\n",
      "       [ 2.03713202e+00,  5.32798886e-01, -2.61685395e+00],\n",
      "       [ 3.68376970e+00, -1.87646639e+00, -2.02846670e+00],\n",
      "       [ 1.42643249e+00,  2.18569350e+00, -3.30762362e+00],\n",
      "       [ 3.73665237e+00, -1.71601331e+00, -2.35667419e+00],\n",
      "       [ 3.81250358e+00, -1.69493580e+00, -2.46577096e+00],\n",
      "       [ 3.28398180e+00, -6.39538229e-01, -2.76902628e+00],\n",
      "       [ 1.72724068e+00, -3.56894207e+00,  1.45494330e+00],\n",
      "       [ 3.85915899e+00, -1.91027415e+00, -2.29437256e+00],\n",
      "       [ 3.81816125e+00, -2.29839969e+00, -1.69144392e+00],\n",
      "       [ 2.37848854e+00,  9.93308365e-01, -3.18717194e+00],\n",
      "       [ 3.81138396e+00, -2.02798343e+00, -1.99318027e+00],\n",
      "       [-1.31925166e+00,  1.48583066e+00,  4.87525016e-01],\n",
      "       [-4.43064958e-01,  2.95908332e+00, -2.10966039e+00],\n",
      "       [ 3.82718372e+00, -1.78692436e+00, -2.17111731e+00],\n",
      "       [-1.81195533e+00, -2.18255711e+00,  3.93750238e+00],\n",
      "       [-1.72322404e+00, -2.17829871e+00,  3.83426523e+00],\n",
      "       [ 4.88656670e-01,  2.59742308e+00, -2.93176198e+00],\n",
      "       [ 3.16099954e+00, -8.65469992e-01, -2.25275803e+00],\n",
      "       [-4.93722916e-01, -3.01441789e+00,  3.40691519e+00],\n",
      "       [ 9.94399190e-01,  1.25383520e+00, -1.93064141e+00],\n",
      "       [-1.18077612e+00, -2.78998494e+00,  4.01536036e+00],\n",
      "       [-6.27832413e-01, -1.43160135e-01,  1.10191607e+00],\n",
      "       [ 3.87764168e+00, -1.94255769e+00, -2.30462766e+00],\n",
      "       [ 3.89481449e+00, -2.03402638e+00, -2.18399906e+00],\n",
      "       [-2.14771819e+00, -1.62216961e+00,  3.87726331e+00],\n",
      "       [ 2.45890999e+00, -2.50045896e+00, -3.05158764e-01],\n",
      "       [ 3.83824539e+00, -1.99547517e+00, -2.24376631e+00],\n",
      "       [ 3.60390115e+00, -1.75457704e+00, -2.08381176e+00],\n",
      "       [ 2.96591663e+00, -1.29055679e+00, -1.63260174e+00],\n",
      "       [ 3.66787529e+00, -1.28096998e+00, -2.60202360e+00],\n",
      "       [-1.12488639e+00,  3.75834060e+00, -1.99024129e+00],\n",
      "       [ 3.14871883e+00, -1.64216027e-01, -3.23529387e+00],\n",
      "       [-5.61651707e-01,  3.66504145e+00, -2.48080683e+00],\n",
      "       [ 3.68175864e+00, -2.98795080e+00, -1.08496773e+00],\n",
      "       [ 3.51476622e+00, -9.09658670e-01, -2.81377125e+00],\n",
      "       [ 1.67260540e+00, -3.63388491e+00,  1.61158013e+00],\n",
      "       [ 4.99084562e-01,  2.69691968e+00, -2.96141958e+00],\n",
      "       [ 3.59400511e+00, -1.28609586e+00, -2.51995778e+00],\n",
      "       [ 3.84564972e+00, -1.79142654e+00, -2.42289948e+00],\n",
      "       [ 3.82835627e+00, -1.76773465e+00, -2.39849758e+00],\n",
      "       [ 3.83720636e+00, -1.90431476e+00, -2.30146790e+00],\n",
      "       [ 2.32327580e+00,  9.10272419e-01, -3.17874336e+00],\n",
      "       [ 1.42581761e+00, -1.37570655e+00, -6.89338893e-02],\n",
      "       [ 2.92893553e+00, -2.73038238e-01, -2.44417381e+00],\n",
      "       [ 8.28065127e-02, -3.49690938e+00,  3.01962066e+00],\n",
      "       [ 2.74169087e+00, -2.16965699e+00, -9.75338340e-01],\n",
      "       [-2.57696420e-01,  1.81250417e+00, -8.90399635e-01],\n",
      "       [ 3.89076591e+00, -2.07229471e+00, -2.20856023e+00],\n",
      "       [-5.46773374e-01,  3.53465152e+00, -2.57569814e+00],\n",
      "       [-1.00949442e+00, -1.97135842e+00,  2.93598986e+00],\n",
      "       [-1.66395247e+00, -2.34766674e+00,  4.03146744e+00],\n",
      "       [-3.03315759e-01, -3.02762151e+00,  3.18863440e+00],\n",
      "       [ 3.63383627e+00, -1.73530245e+00, -2.12482977e+00],\n",
      "       [ 3.90830469e+00, -2.20440221e+00, -2.05309772e+00],\n",
      "       [-1.91887581e+00, -2.06292558e+00,  4.12419558e+00],\n",
      "       [-2.01362276e+00, -2.04510403e+00,  4.11278152e+00],\n",
      "       [ 3.79538536e+00, -2.00565839e+00, -2.15517187e+00],\n",
      "       [ 3.74654078e+00, -1.61390924e+00, -2.45937490e+00],\n",
      "       [-1.42792571e+00, -2.59402490e+00,  4.03380728e+00],\n",
      "       [-2.10162997e+00, -1.96858633e+00,  4.11647511e+00],\n",
      "       [ 2.82641172e+00, -1.32285452e+00, -1.43152690e+00],\n",
      "       [-3.13609570e-01, -3.18067241e+00,  3.42036343e+00],\n",
      "       [-2.81853247e+00,  2.71350169e+00,  9.32122469e-01],\n",
      "       [ 4.55898672e-01, -3.40067887e+00,  2.78350806e+00],\n",
      "       [ 9.20342922e-01, -3.07997823e+00,  1.96009338e+00],\n",
      "       [ 5.11244655e-01,  2.29782748e+00, -2.51479077e+00],\n",
      "       [ 3.72456551e+00, -2.69147468e+00, -1.44644094e+00],\n",
      "       [ 3.80720806e+00, -2.49825263e+00, -1.68668234e+00],\n",
      "       [-9.82415974e-01,  3.67443490e+00, -2.10987186e+00],\n",
      "       [ 3.61557990e-01, -3.85398418e-01,  4.06535178e-01],\n",
      "       [ 3.86716390e+00, -1.95459366e+00, -2.26472902e+00],\n",
      "       [ 3.88210940e+00, -2.19747972e+00, -2.01779294e+00],\n",
      "       [ 3.43688726e+00, -1.41977096e+00, -2.24652243e+00],\n",
      "       [-1.37515128e+00, -2.57293487e+00,  3.83175349e+00],\n",
      "       [ 1.37929034e+00, -3.13299155e+00,  1.50577617e+00],\n",
      "       [ 3.85638165e+00, -1.67519534e+00, -2.45332575e+00],\n",
      "       [ 3.86047459e+00, -2.22922087e+00, -2.03587222e+00],\n",
      "       [ 3.85744405e+00, -1.96420801e+00, -2.20240355e+00],\n",
      "       [ 1.45674479e+00, -3.05572200e+00,  1.49085784e+00],\n",
      "       [ 2.46218681e+00, -3.35663390e+00,  2.89788634e-01],\n",
      "       [ 3.64490414e+00, -1.47012794e+00, -2.43854761e+00],\n",
      "       [ 3.82032514e+00, -1.74450815e+00, -2.40019464e+00],\n",
      "       [ 1.36149538e+00,  1.89949501e+00, -2.99709058e+00],\n",
      "       [-1.86761498e+00,  7.58785784e-01,  1.48340094e+00],\n",
      "       [ 1.17278731e+00, -3.61067700e+00,  2.02515626e+00],\n",
      "       [ 1.75659120e+00, -2.36006093e+00,  4.40520793e-01],\n",
      "       [-1.24128377e+00,  3.97189450e+00, -2.23052168e+00],\n",
      "       [ 3.00565696e+00, -3.26024026e-01, -3.00130510e+00],\n",
      "       [ 1.13527846e+00, -2.59764743e+00,  1.30961156e+00],\n",
      "       [-1.68713343e+00,  4.17109823e+00, -1.66545558e+00],\n",
      "       [ 3.58102393e+00, -1.17542660e+00, -2.39797449e+00],\n",
      "       [ 3.93168449e+00, -1.92976034e+00, -2.22252488e+00],\n",
      "       [ 3.89612985e+00, -2.04281735e+00, -2.22835684e+00],\n",
      "       [ 3.73970819e+00, -1.56031263e+00, -2.49350333e+00],\n",
      "       [-3.81937832e-01, -3.21455884e+00,  3.40790033e+00],\n",
      "       [ 2.64367867e+00,  3.89140457e-01, -2.79787350e+00],\n",
      "       [ 3.73338246e+00, -2.19626689e+00, -1.72781873e+00],\n",
      "       [ 3.45766783e+00, -9.81549144e-01, -2.67597294e+00],\n",
      "       [-1.89572632e+00, -2.15525699e+00,  4.06792974e+00],\n",
      "       [-8.08579773e-02, -3.13391042e+00,  3.06607866e+00],\n",
      "       [ 3.84789467e+00, -2.46034503e+00, -1.76676881e+00],\n",
      "       [ 3.83795571e+00, -2.15982461e+00, -2.01448679e+00],\n",
      "       [ 1.32838571e+00,  1.41414893e+00, -2.36368179e+00],\n",
      "       [-1.41023934e+00,  3.56947541e+00, -1.37707198e+00],\n",
      "       [-1.78970218e+00,  4.07450819e+00, -1.49993658e+00],\n",
      "       [ 1.58248687e+00, -3.81826711e+00,  1.72324014e+00],\n",
      "       [ 2.72397436e-02, -1.19655168e+00,  1.33346188e+00],\n",
      "       [-1.49401009e+00, -2.51323986e+00,  4.03571272e+00],\n",
      "       [ 3.40144205e+00, -8.67202938e-01, -2.84407234e+00],\n",
      "       [ 3.72683477e+00, -1.66705346e+00, -2.41855288e+00],\n",
      "       [ 3.90653801e+00, -2.36227512e+00, -1.74742842e+00],\n",
      "       [ 8.88880014e-01,  2.52753639e+00, -3.13258982e+00],\n",
      "       [-3.02475780e-01, -3.27062011e+00,  3.27776051e+00],\n",
      "       [ 3.38132954e+00, -2.98244238e+00, -7.10008442e-01],\n",
      "       [ 3.30659080e+00, -3.96048963e-01, -2.97980213e+00],\n",
      "       [ 3.38005686e+00, -6.82711124e-01, -2.87710142e+00],\n",
      "       [ 3.55109423e-01, -1.04919446e+00,  9.21130002e-01],\n",
      "       [ 1.45065129e+00,  1.41325939e+00, -2.85406089e+00],\n",
      "       [ 3.89126015e+00, -1.77373421e+00, -2.38703585e+00],\n",
      "       [ 3.83671308e+00, -1.99859333e+00, -2.25200725e+00],\n",
      "       [ 3.72641492e+00, -1.76913321e+00, -2.12853861e+00],\n",
      "       [ 3.77101088e+00, -2.39431787e+00, -1.61259997e+00],\n",
      "       [-1.06312001e+00, -2.67536211e+00,  3.79831600e+00],\n",
      "       [ 2.20721483e+00, -2.65899158e+00,  3.47508639e-01],\n",
      "       [-6.03348196e-01,  1.30623078e+00, -3.56449395e-01],\n",
      "       [-3.11464190e-01, -1.78591764e+00,  2.42636490e+00],\n",
      "       [ 3.39970064e+00, -1.77399242e+00, -1.71313620e+00],\n",
      "       [ 3.90134788e+00, -2.32671666e+00, -1.95741284e+00],\n",
      "       [ 3.59029269e+00, -1.58161974e+00, -2.22245932e+00],\n",
      "       [ 3.76578617e+00, -2.90622449e+00, -1.19459844e+00],\n",
      "       [-1.97432506e+00, -1.54253411e+00,  3.48101425e+00],\n",
      "       [ 6.44839883e-01, -2.77737832e+00,  1.97133279e+00],\n",
      "       [ 3.16942286e+00, -1.50299072e-01, -3.05665493e+00],\n",
      "       [-1.71005106e+00, -2.33522224e+00,  4.05935192e+00],\n",
      "       [ 2.05752230e+00,  9.15141046e-01, -2.82707024e+00],\n",
      "       [-1.75849342e+00, -2.28239512e+00,  4.07411861e+00],\n",
      "       [ 3.87835383e+00, -1.63641083e+00, -2.37532926e+00],\n",
      "       [ 2.96998930e+00,  2.81070858e-01, -3.25246668e+00],\n",
      "       [ 3.92318034e+00, -2.01238942e+00, -2.12117863e+00],\n",
      "       [ 3.79488945e+00, -1.75426948e+00, -2.44041109e+00],\n",
      "       [ 6.38651967e-01, -3.63423324e+00,  2.57981849e+00],\n",
      "       [ 1.57939875e+00,  1.65511981e-01, -1.32025218e+00],\n",
      "       [ 3.87734556e+00, -2.67356849e+00, -1.52218556e+00],\n",
      "       [ 1.39513409e+00,  2.11151242e+00, -3.39700627e+00],\n",
      "       [ 2.68818378e-01,  1.30733573e+00, -1.30591059e+00],\n",
      "       [ 3.67139697e+00, -9.89177883e-01, -2.68293023e+00],\n",
      "       [ 3.77973843e+00, -1.76040411e+00, -2.31006289e+00],\n",
      "       [ 3.83017373e+00, -1.95738482e+00, -2.24873614e+00],\n",
      "       [ 1.11771047e+00,  1.57768106e+00, -2.41366434e+00],\n",
      "       [ 6.66081905e-01,  2.70277405e+00, -3.19103527e+00],\n",
      "       [-1.39291275e+00, -2.60418868e+00,  4.01073122e+00],\n",
      "       [ 1.13635398e-02, -3.59399152e+00,  3.22672963e+00],\n",
      "       [ 3.08407259e+00, -6.81585610e-01, -2.28518915e+00],\n",
      "       [-7.67805278e-01, -2.35460067e+00,  3.29931116e+00],\n",
      "       [ 2.40880442e+00, -1.92471421e+00, -2.71498650e-01],\n",
      "       [ 2.60446453e+00, -3.84505081e+00,  6.79541051e-01],\n",
      "       [ 3.79833007e+00, -2.46522117e+00, -1.63607657e+00],\n",
      "       [ 7.19764650e-01,  1.92460060e+00, -2.47251773e+00],\n",
      "       [ 8.91778350e-01, -3.37695765e+00,  2.18846989e+00],\n",
      "       [ 3.75313950e+00, -2.69589901e+00, -1.44684482e+00],\n",
      "       [ 1.35552192e+00, -4.27973084e-02, -1.06906307e+00],\n",
      "       [-1.36562061e+00, -2.34213090e+00,  3.74555802e+00],\n",
      "       [ 3.85309625e+00, -2.60835671e+00, -1.62622666e+00],\n",
      "       [ 3.84870267e+00, -2.02828646e+00, -2.23389149e+00],\n",
      "       [ 1.09167230e+00, -3.35155702e+00,  1.77064347e+00],\n",
      "       [ 3.68243670e+00, -3.09396243e+00, -1.00182962e+00],\n",
      "       [ 2.46492195e+00, -3.63469481e+00,  6.44331336e-01],\n",
      "       [ 3.91088080e+00, -2.04393768e+00, -2.25835466e+00],\n",
      "       [ 3.55782700e+00, -1.61391652e+00, -2.08738971e+00],\n",
      "       [ 3.88093281e+00, -2.12145400e+00, -2.07920027e+00],\n",
      "       [ 3.87856078e+00, -2.12885952e+00, -2.15902948e+00],\n",
      "       [ 3.86586571e+00, -2.01252079e+00, -2.19843936e+00],\n",
      "       [ 3.39132690e+00, -2.40358567e+00, -1.09006631e+00],\n",
      "       [ 1.54638326e+00,  1.80783927e+00, -3.14956427e+00],\n",
      "       [-9.63629603e-01, -2.91797805e+00,  3.70658875e+00],\n",
      "       [ 3.79721451e+00, -2.71069884e+00, -1.49075115e+00],\n",
      "       [ 4.39620465e-01,  2.87959933e+00, -3.06207705e+00],\n",
      "       [ 9.91023332e-02,  2.98355722e+00, -2.69315672e+00],\n",
      "       [-5.30428708e-01, -3.23197341e+00,  3.54928780e+00],\n",
      "       [-1.71919179e+00, -2.25535321e+00,  4.00662184e+00],\n",
      "       [ 3.84815741e+00, -2.22333074e+00, -1.95632529e+00],\n",
      "       [ 3.32625818e+00, -6.86415493e-01, -2.70207214e+00],\n",
      "       [ 3.59562922e+00, -9.45514023e-01, -2.75196815e+00],\n",
      "       [ 3.75973868e+00, -1.73808527e+00, -2.33716059e+00],\n",
      "       [-6.93538904e-01, -3.11760569e+00,  3.64352107e+00],\n",
      "       [-1.18567169e+00,  3.45879793e+00, -1.55814719e+00],\n",
      "       [-1.71650827e+00, -2.36121058e+00,  4.06848049e+00],\n",
      "       [-1.85157657e+00,  4.13519669e+00, -1.66010988e+00],\n",
      "       [-1.70102167e+00, -2.30650783e+00,  4.11520958e+00],\n",
      "       [-7.92934358e-01, -2.95116496e+00,  3.55896187e+00],\n",
      "       [ 3.93673968e+00, -2.09460139e+00, -2.17748356e+00],\n",
      "       [ 3.80082011e+00, -1.82024777e+00, -2.43155289e+00],\n",
      "       [ 2.23298788e+00, -3.14813876e+00,  7.05902576e-01],\n",
      "       [ 5.99618889e-02, -3.36835146e+00,  3.06480408e+00],\n",
      "       [ 2.08453536e+00, -4.51047182e-01, -1.42875397e+00],\n",
      "       [ 3.61440849e+00, -1.32740808e+00, -2.41269255e+00],\n",
      "       [ 3.76376104e+00, -2.02058578e+00, -2.01879311e+00],\n",
      "       [ 1.91938055e+00, -3.69094110e+00,  1.15196216e+00],\n",
      "       [ 3.17945814e+00, -4.29473400e-01, -2.83411932e+00],\n",
      "       [ 3.73639488e+00, -2.46494389e+00, -1.59168196e+00],\n",
      "       [ 3.52731371e+00, -1.11104143e+00, -2.64273047e+00],\n",
      "       [-1.80005527e+00, -2.21448684e+00,  4.02447414e+00],\n",
      "       [-1.19457233e+00,  8.99231315e-01,  6.71164274e-01],\n",
      "       [ 4.79699485e-02, -3.41627288e+00,  3.05967617e+00],\n",
      "       [ 3.00631523e+00, -3.74566770e+00,  1.72224239e-01],\n",
      "       [ 3.74122715e+00, -2.89277077e+00, -1.25284505e+00],\n",
      "       [ 2.73447514e+00, -6.15894675e-01, -2.05477166e+00],\n",
      "       [-1.56067264e+00, -2.25355792e+00,  3.93567085e+00],\n",
      "       [ 3.84393001e+00, -1.76326585e+00, -2.41920590e+00],\n",
      "       [ 2.04189587e+00,  1.42129385e+00, -3.40762758e+00],\n",
      "       [ 3.72498941e+00, -2.13777733e+00, -1.85560226e+00],\n",
      "       [ 7.36106634e-01, -2.44507456e+00,  1.75870717e+00],\n",
      "       [-1.82904279e+00, -2.20374107e+00,  4.09584379e+00],\n",
      "       [-1.94646215e+00, -2.09034562e+00,  4.10656738e+00],\n",
      "       [ 3.52951908e+00, -9.92509961e-01, -2.74064302e+00],\n",
      "       [ 3.58421135e+00, -1.62543762e+00, -2.12035108e+00],\n",
      "       [ 2.80589342e+00,  4.23158973e-01, -3.09065056e+00],\n",
      "       [ 3.90582061e+00, -1.92463493e+00, -2.30987477e+00],\n",
      "       [ 1.21966064e-01, -3.25300479e+00,  2.91761899e+00],\n",
      "       [-2.34179568e+00, -1.14461172e+00,  3.70685458e+00],\n",
      "       [ 3.88875413e+00, -1.90642095e+00, -2.27746964e+00],\n",
      "       [-1.22112858e+00,  3.41515326e+00, -1.45749009e+00],\n",
      "       [ 1.54696858e+00, -3.35107303e+00,  1.24634767e+00],\n",
      "       [ 3.54687262e+00, -3.28057790e+00, -8.10205877e-01],\n",
      "       [-2.67365742e+00, -7.41138577e-01,  3.53002000e+00],\n",
      "       [-1.31150281e+00, -2.73118305e+00,  4.01870632e+00],\n",
      "       [-6.40313029e-01,  3.70248032e+00, -2.52748680e+00],\n",
      "       [ 7.89903224e-01, -3.48676848e+00,  2.43781686e+00],\n",
      "       [ 2.36740518e+00,  7.90784478e-01, -3.11996794e+00],\n",
      "       [-8.77902210e-01,  3.30565739e+00, -1.75608611e+00],\n",
      "       [ 3.03232884e+00,  2.62780964e-01, -3.37223005e+00],\n",
      "       [ 3.84355402e+00, -1.75256348e+00, -2.41604519e+00],\n",
      "       [ 1.42542589e+00, -3.78119636e+00,  1.86725223e+00],\n",
      "       [-1.13942349e+00, -2.41153598e+00,  3.53182411e+00],\n",
      "       [ 1.27169859e+00, -2.89274144e+00,  1.17619753e+00],\n",
      "       [ 3.50874972e+00, -2.74728632e+00, -1.15187359e+00],\n",
      "       [ 1.08263934e+00, -3.23883224e+00,  1.91451621e+00],\n",
      "       [ 1.82022572e+00,  1.17311883e+00, -2.95621395e+00],\n",
      "       [ 3.70582724e+00, -2.63989854e+00, -1.30257165e+00],\n",
      "       [ 2.69962239e+00,  1.65481508e-01, -2.80122137e+00],\n",
      "       [ 3.78062820e+00, -1.74243140e+00, -2.44262290e+00],\n",
      "       [ 3.27161646e+00, -8.56633663e-01, -2.48383069e+00],\n",
      "       [ 1.46956885e+00, -2.69454455e+00,  9.61421192e-01],\n",
      "       [ 3.05291200e+00, -2.18412131e-01, -2.90966439e+00],\n",
      "       [ 1.93897176e+00,  9.27133501e-01, -2.62619162e+00],\n",
      "       [-2.29541206e+00,  3.91390848e+00, -8.91312599e-01],\n",
      "       [ 6.94636226e-01, -3.65049672e+00,  2.61615252e+00],\n",
      "       [ 8.31440464e-03, -3.35975313e+00,  3.03848934e+00],\n",
      "       [ 3.90550399e+00, -1.96506906e+00, -2.24060392e+00],\n",
      "       [ 3.78449154e+00, -1.24786270e+00, -2.72272515e+00],\n",
      "       [ 3.86010718e+00, -2.12796187e+00, -2.08439541e+00],\n",
      "       [ 3.88888359e+00, -2.08321571e+00, -2.22052169e+00],\n",
      "       [ 3.73416710e+00, -1.59635639e+00, -2.56860113e+00],\n",
      "       [ 3.61938095e+00, -1.32704508e+00, -2.52647686e+00],\n",
      "       [-6.81291282e-01, -2.22406316e+00,  2.90974331e+00],\n",
      "       [ 2.52873230e+00, -1.57688105e+00, -1.02875459e+00],\n",
      "       [-1.88329232e+00, -1.45171916e+00,  3.69962311e+00],\n",
      "       [-1.90283799e+00, -2.18025756e+00,  4.10042000e+00],\n",
      "       [ 3.87625122e+00, -2.12823558e+00, -2.05087423e+00],\n",
      "       [ 3.82757425e+00, -2.46211195e+00, -1.71457052e+00],\n",
      "       [ 1.47626007e+00, -1.71080577e+00,  3.18889439e-01],\n",
      "       [-7.43215561e-01, -3.04008770e+00,  3.61212492e+00],\n",
      "       [ 1.57140934e+00, -3.84040904e+00,  1.85980248e+00],\n",
      "       [ 3.57258177e+00, -1.02063191e+00, -2.58574963e+00],\n",
      "       [-2.08453846e+00, -1.98753119e+00,  4.17416906e+00],\n",
      "       [ 1.82652760e+00,  1.24152148e+00, -3.26043248e+00],\n",
      "       [ 3.75163364e+00, -1.83052599e+00, -2.15419793e+00],\n",
      "       [ 3.84113622e+00, -1.99971569e+00, -2.16245508e+00],\n",
      "       [-1.60209954e+00, -2.28427672e+00,  3.87985277e+00],\n",
      "       [ 3.69857931e+00, -1.56696451e+00, -2.44115663e+00],\n",
      "       [ 3.73403335e+00, -1.63189065e+00, -2.32681060e+00],\n",
      "       [-1.12231314e+00,  3.77949452e+00, -1.94071293e+00],\n",
      "       [-3.94836038e-01, -3.22918630e+00,  3.39508247e+00],\n",
      "       [ 1.66648638e+00,  1.46574628e+00, -2.92081761e+00],\n",
      "       [-1.34703672e+00, -2.63724470e+00,  3.96956396e+00],\n",
      "       [-7.38288403e-01,  2.34861755e+00, -8.58143985e-01],\n",
      "       [ 3.87696028e+00, -2.35771847e+00, -1.88220358e+00],\n",
      "       [-1.25151789e+00,  3.70685410e+00, -1.75526619e+00],\n",
      "       [-1.55026770e+00,  4.28795481e+00, -2.08733273e+00],\n",
      "       [ 3.77682042e+00, -1.78316176e+00, -2.34561348e+00],\n",
      "       [ 3.83718634e+00, -2.22584128e+00, -2.03883886e+00],\n",
      "       [ 1.08881271e+00, -3.77447581e+00,  2.21775031e+00],\n",
      "       [-9.34777781e-03, -3.53604865e+00,  3.27625942e+00],\n",
      "       [ 3.83131623e+00, -1.80585790e+00, -2.47446489e+00],\n",
      "       [ 3.71698284e+00, -1.79780602e+00, -2.19689465e+00],\n",
      "       [ 2.02021790e+00, -3.65891528e+00,  1.20414329e+00],\n",
      "       [-4.30006891e-01, -3.17888665e+00,  3.41376567e+00],\n",
      "       [-1.28779185e+00,  2.47973517e-01,  1.70187259e+00],\n",
      "       [ 6.50368571e-01,  1.86791933e+00, -2.14702654e+00],\n",
      "       [-1.77030098e+00, -2.32551575e+00,  4.06791592e+00],\n",
      "       [-1.26942015e+00, -2.61458874e+00,  3.80729604e+00],\n",
      "       [ 2.26710725e+00, -5.25613487e-01, -1.96781719e+00],\n",
      "       [ 3.00701447e-02,  2.93219686e+00, -2.61527967e+00],\n",
      "       [ 3.44234705e+00, -9.84644294e-01, -2.70518422e+00],\n",
      "       [-4.04436560e-03,  3.26578546e+00, -2.92859173e+00],\n",
      "       [ 3.74490619e+00, -1.32304168e+00, -2.61193371e+00],\n",
      "       [ 3.75818634e+00, -1.16822398e+00, -2.79917765e+00]], dtype=float32), label_ids=array([2, 2, 1, 1, 0, 0, 0, 0, 2, 2, 0, 0, 0, 0, 1, 1, 2, 2, 2, 1, 1, 2,\n",
      "       1, 2, 1, 0, 0, 2, 2, 0, 0, 0, 0, 1, 1, 1, 2, 1, 2, 1, 1, 0, 0, 0,\n",
      "       0, 1, 1, 2, 2, 0, 0, 1, 1, 2, 2, 0, 0, 2, 2, 0, 0, 2, 2, 1, 2, 1,\n",
      "       2, 2, 1, 2, 1, 1, 1, 0, 0, 1, 2, 2, 0, 0, 0, 2, 2, 0, 0, 1, 1, 2,\n",
      "       2, 1, 1, 1, 1, 0, 0, 0, 0, 2, 1, 2, 1, 2, 2, 0, 0, 1, 1, 1, 2, 1,\n",
      "       2, 0, 0, 1, 1, 2, 2, 0, 0, 1, 1, 0, 0, 0, 0, 2, 2, 1, 1, 0, 0, 2,\n",
      "       2, 2, 2, 1, 2, 1, 2, 0, 0, 0, 0, 2, 1, 2, 1, 1, 1, 0, 0, 1, 1, 2,\n",
      "       2, 1, 2, 1, 2, 2, 1, 2, 1, 1, 1, 0, 0, 2, 2, 0, 0, 0, 0, 0, 0, 1,\n",
      "       1, 2, 2, 1, 1, 2, 2, 0, 0, 0, 0, 2, 1, 2, 1, 2, 2, 0, 0, 2, 2, 1,\n",
      "       1, 0, 0, 1, 0, 1, 2, 1, 2, 2, 2, 1, 1, 0, 0, 0, 0, 2, 2, 1, 1, 0,\n",
      "       0, 2, 2, 1, 1, 2, 2, 1, 2, 1, 2, 1, 1, 0, 0, 2, 2, 0, 0, 2, 1, 2,\n",
      "       1, 0, 0, 1, 1, 1, 1, 2, 2, 0, 0, 0, 0, 0, 0, 1, 1, 2, 2, 0, 0, 2,\n",
      "       2, 2, 1, 2, 1, 0, 0, 2, 1, 1, 1, 2, 1, 2, 0, 0, 1, 1, 0, 0, 2, 2,\n",
      "       0, 0, 2, 2, 1, 1, 2, 2, 1, 1, 1, 1, 0, 0]), metrics={'test_loss': 1.1661397218704224, 'test_f1': 0.6771228348421539, 'test_runtime': 10.8702, 'test_samples_per_second': 27.598, 'test_steps_per_second': 3.496})\n"
     ]
    }
   ],
   "source": [
    "output_predictions = trainer.predict(test)\n",
    "print(output_predictions)"
   ]
  },
  {
   "cell_type": "code",
   "execution_count": null,
   "id": "4a2e1f34",
   "metadata": {},
   "outputs": [
    {
     "name": "stdout",
     "output_type": "stream",
     "text": [
      "Classification Report:\n",
      "              precision    recall  f1-score   support\n",
      "\n",
      "           0       0.56      0.96      0.71       100\n",
      "           1       0.93      0.40      0.56       100\n",
      "           2       0.83      0.71      0.76       100\n",
      "\n",
      "    accuracy                           0.69       300\n",
      "   macro avg       0.77      0.69      0.68       300\n",
      "weighted avg       0.77      0.69      0.68       300\n",
      "\n",
      "\n",
      "Confusion Matrix:\n",
      "<sklearn.metrics._plot.confusion_matrix.ConfusionMatrixDisplay object at 0x323e19370>\n"
     ]
    },
    {
     "data": {
      "image/png": "[encoded data removed]",
      "text/plain": [
       "<Figure size 640x480 with 2 Axes>"
      ]
     },
     "metadata": {},
     "output_type": "display_data"
    }
   ],
   "source": [
    "y_test = test[\"label\"].tolist()\n",
    "y_pred = np.argmax(output_predictions.predictions, axis=1)\n",
    "\n",
    "report = classification_report(y_test, y_pred)\n",
    "# cm = ConfusionMatrixDisplay.from_predictions(y_test, y_pred, xticks_rotation='vertical', cmap='Blues')\n",
    "\n",
    "# print(\"Classification Report:\")\n",
    "# print(report)\n",
    "# print()\n",
    "\n",
    "# print(\"Confusion Matrix:\")\n",
    "# print(cm)\n",
    "\n",
    "# Recupera la lista delle etichette nell'ordine corretto\n",
    "labels = [\"colombi\", \"neera\", \"serao\"]\n",
    "str_to_int = {label: num for num, label in enumerate(labels)}\n",
    "int_to_str = {v: k for k, v in str_to_int.items()}\n",
    "\n",
    "# Ottengo i nomi delle etichette ordinati per indice numerico\n",
    "display_labels = [int_to_str[i] for i in range(len(labels))]\n",
    "\n",
    "# Stampo la matrice di confusione con i nomi delle etichette\n",
    "cm = ConfusionMatrixDisplay.from_predictions(\n",
    "    y_test, y_pred, \n",
    "    display_labels=display_labels, \n",
    "    xticks_rotation='vertical', \n",
    "    cmap='Blues'\n",
    ")\n",
    "\n",
    "print(\"Classification Report:\")\n",
    "print(report)\n",
    "print()\n",
    "print(\"Confusion Matrix:\")\n",
    "print(cm)"
   ]
  }
 ],
 "metadata": {
  "kernelspec": {
   "display_name": "base",
   "language": "python",
   "name": "python3"
  },
  "language_info": {
   "codemirror_mode": {
    "name": "ipython",
    "version": 3
   },
   "file_extension": ".py",
   "mimetype": "text/x-python",
   "name": "python",
   "nbconvert_exporter": "python",
   "pygments_lexer": "ipython3",
   "version": "3.12.2"
  }
 },
 "nbformat": 4,
 "nbformat_minor": 5
}
