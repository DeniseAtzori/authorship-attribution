{
 "cells": [
  {
   "cell_type": "markdown",
   "id": "3b176454",
   "metadata": {},
   "source": [
    "### Creazione del Dataset \n",
    "\n",
    "una cartella contenente un txt per ogni paragrafo, divisi in:\n",
    "\n",
    "- training set (1000 paragrafi)\n",
    "- validation set (100 paragrafi)\n",
    "- test set (100 paragrafi)"
   ]
  },
  {
   "cell_type": "code",
   "execution_count": 48,
   "id": "f3b15df0",
   "metadata": {},
   "outputs": [],
   "source": [
    "import json\n",
    "import os\n",
    "import pprint"
   ]
  },
  {
   "cell_type": "code",
   "execution_count": 50,
   "id": "151481d0",
   "metadata": {},
   "outputs": [],
   "source": [
    "dizionario = json.load(open(\"Creazione Dataset/dizionario_paragrafi.json\"))"
   ]
  },
  {
   "cell_type": "code",
   "execution_count": 51,
   "id": "f823efb9",
   "metadata": {},
   "outputs": [],
   "source": [
    "# Rimuovo dal dizionario un libro di ciascuna autrice che tengo per creare test e validation\n",
    "\n",
    "test_neera = dizionario[\"Neera Zuccari Anna Maria - 1846 - 1918\"].pop(\"neera_l_amuleto\")\n",
    "test_serao = dizionario[\"Serao Matilde - 1856-1927\"].pop(\"serao_la_conquista_di_roma\")\n",
    "test_colombi = dizionario[\"Colombi Marchesa, 1840-1920\"].pop(\"colombi_tempesta_e_bonaccia\")"
   ]
  },
  {
   "cell_type": "markdown",
   "id": "2fe10fe4",
   "metadata": {},
   "source": [
    "#### Genero il training set"
   ]
  },
  {
   "cell_type": "code",
   "execution_count": 52,
   "id": "837cc304",
   "metadata": {},
   "outputs": [],
   "source": [
    "# scorro il dizionario, scorro i libri e poi i singoli paragrafi di ciascuno libro\n",
    "for autrice, libro in dizionario.items():\n",
    "    id = 1\n",
    "    for titolo, lista_paragrafi in libro.items():\n",
    "        # mi salvo il nome dell'autrice (la mia label)\n",
    "        nome_autrice = titolo.split(\"_\")[0]\n",
    "        for paragrafo in lista_paragrafi:\n",
    "            # dataset di training\n",
    "            if id <= 1000:\n",
    "                nome_file = f\"{nome_autrice}_{id}_training.txt\"\n",
    "                # apro il file\n",
    "                file = open(f\"Dataset/Training/{nome_file}\", \"w\")\n",
    "            \n",
    "            # scrivo il paragrafo sul file, chiudo il file\n",
    "                file.write(paragrafo)\n",
    "                file.close()\n",
    "\n",
    "            # aumento l'indice\n",
    "            id += 1"
   ]
  },
  {
   "cell_type": "markdown",
   "id": "ba76f20a",
   "metadata": {},
   "source": [
    "#### Genero validation e test set"
   ]
  },
  {
   "cell_type": "code",
   "execution_count": 53,
   "id": "c333e157",
   "metadata": {},
   "outputs": [],
   "source": [
    "def creazione_val_test(libro, nome_autrice):\n",
    "    \n",
    "    id =1\n",
    "    for el in libro:\n",
    "        if id <=100:\n",
    "            nome_file = f\"{nome_autrice}_{id}_validation.txt\"\n",
    "            # apro il file\n",
    "            file = open(f\"Dataset/Validation/{nome_file}\", \"w\")\n",
    "            file.write(el)\n",
    "            file.close()\n",
    "        elif id <=200:\n",
    "            nome_file = f\"{nome_autrice}_{id}_test.txt\"\n",
    "            # apro il file\n",
    "            file = open(f\"Dataset/Test/{nome_file}\", \"w\")\n",
    "            file.write(el)\n",
    "            file.close()\n",
    "        id+=1"
   ]
  },
  {
   "cell_type": "code",
   "execution_count": 54,
   "id": "b299a123",
   "metadata": {},
   "outputs": [],
   "source": [
    "creazione_val_test(test_colombi, \"colombi\")\n",
    "creazione_val_test(test_serao, \"serao\")\n",
    "creazione_val_test(test_neera, \"neera\")"
   ]
  }
 ],
 "metadata": {
  "kernelspec": {
   "display_name": "base",
   "language": "python",
   "name": "python3"
  },
  "language_info": {
   "codemirror_mode": {
    "name": "ipython",
    "version": 3
   },
   "file_extension": ".py",
   "mimetype": "text/x-python",
   "name": "python",
   "nbconvert_exporter": "python",
   "pygments_lexer": "ipython3",
   "version": "3.12.2"
  }
 },
 "nbformat": 4,
 "nbformat_minor": 5
}
