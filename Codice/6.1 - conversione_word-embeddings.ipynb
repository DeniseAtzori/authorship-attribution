{
 "cells": [
  {
   "cell_type": "markdown",
   "id": "5dfa4555",
   "metadata": {},
   "source": [
    "# Codice per la conversione del file dei word embeddings da sqlite a txt"
   ]
  },
  {
   "cell_type": "code",
   "execution_count": 6,
   "id": "3fb71d9e",
   "metadata": {},
   "outputs": [],
   "source": [
    "import sqlite3"
   ]
  },
  {
   "cell_type": "code",
   "execution_count": 7,
   "id": "d4c02ee2",
   "metadata": {},
   "outputs": [],
   "source": [
    "dim = 32\n",
    "\n",
    "sql_path = f'itwac{dim}.sqlite'\n",
    "txt_path = f'itwac{dim}.txt'"
   ]
  },
  {
   "cell_type": "code",
   "execution_count": 8,
   "id": "bec1ef7a",
   "metadata": {},
   "outputs": [],
   "source": [
    "con = sqlite3.connect(sql_path)"
   ]
  },
  {
   "cell_type": "code",
   "execution_count": 9,
   "id": "45e25c5c",
   "metadata": {},
   "outputs": [],
   "source": [
    "cur = con.cursor()"
   ]
  },
  {
   "cell_type": "code",
   "execution_count": 10,
   "id": "4910d49c",
   "metadata": {},
   "outputs": [],
   "source": [
    "with open(txt_path, 'w+') as out_file:\n",
    "    for embedding in cur.execute(\"SELECT * FROM store\"):\n",
    "        str_embedding = [str(el) for el in embedding[:-1]]\n",
    "        out_file.write('\\t'.join(str_embedding)+'\\n')\n",
    "\n",
    "out_file.close()"
   ]
  }
 ],
 "metadata": {
  "kernelspec": {
   "display_name": "base",
   "language": "python",
   "name": "python3"
  },
  "language_info": {
   "codemirror_mode": {
    "name": "ipython",
    "version": 3
   },
   "file_extension": ".py",
   "mimetype": "text/x-python",
   "name": "python",
   "nbconvert_exporter": "python",
   "pygments_lexer": "ipython3",
   "version": "3.12.2"
  }
 },
 "nbformat": 4,
 "nbformat_minor": 5
}
